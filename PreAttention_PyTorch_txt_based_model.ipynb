{
  "nbformat": 4,
  "nbformat_minor": 0,
  "metadata": {
    "colab": {
      "name": "PreAttention_PyTorch_txt_based_model.ipynb",
      "version": "0.3.2",
      "provenance": [],
      "collapsed_sections": [
        "hrC0f3LFBEGv",
        "CKRNKTFbqBSL",
        "hpkyGaaig9-k"
      ],
      "include_colab_link": true
    },
    "kernelspec": {
      "name": "python3",
      "display_name": "Python 3"
    },
    "accelerator": "GPU"
  },
  "cells": [
    {
      "cell_type": "markdown",
      "metadata": {
        "id": "view-in-github",
        "colab_type": "text"
      },
      "source": [
        "<a href=\"https://colab.research.google.com/github/TrentBrick/PAE/blob/master/PreAttention_PyTorch_txt_based_model.ipynb\" target=\"_parent\"><img src=\"https://colab.research.google.com/assets/colab-badge.svg\" alt=\"Open In Colab\"/></a>"
      ]
    },
    {
      "metadata": {
        "id": "A_jr8-iZGH9v",
        "colab_type": "text"
      },
      "cell_type": "markdown",
      "source": [
        "\n",
        "Data conversion to integers and keras models are at the bottom of the whole script!!\n"
      ]
    },
    {
      "metadata": {
        "id": "QV9li8zR9-hv",
        "colab_type": "code",
        "outputId": "199b7c58-798f-4aad-80f4-783fa2bdd33a",
        "colab": {
          "base_uri": "https://localhost:8080/",
          "height": 52
        }
      },
      "cell_type": "code",
      "source": [
        "import torch\n",
        "print(torch.__version__)\n",
        "import numpy as np\n",
        "from google.colab import drive\n",
        "drive.mount('/content/gdrive') #, force_remount=True)"
      ],
      "execution_count": 20,
      "outputs": [
        {
          "output_type": "stream",
          "text": [
            "1.0.1.post2\n",
            "Drive already mounted at /content/gdrive; to attempt to forcibly remount, call drive.mount(\"/content/gdrive\", force_remount=True).\n"
          ],
          "name": "stdout"
        }
      ]
    },
    {
      "metadata": {
        "id": "KstlzmyN-Eat",
        "colab_type": "code",
        "outputId": "7dda0466-a0cb-4746-c202-0e5f330105a6",
        "colab": {
          "base_uri": "https://localhost:8080/",
          "height": 52
        }
      },
      "cell_type": "code",
      "source": [
        "cd gdrive"
      ],
      "execution_count": 21,
      "outputs": [
        {
          "output_type": "stream",
          "text": [
            "[Errno 2] No such file or directory: 'gdrive'\n",
            "/content/gdrive/My Drive\n"
          ],
          "name": "stdout"
        }
      ]
    },
    {
      "metadata": {
        "id": "1kWIGJNa-GhD",
        "colab_type": "code",
        "outputId": "007eabdc-5759-48f8-8f8a-b62dcb134572",
        "colab": {
          "base_uri": "https://localhost:8080/",
          "height": 52
        }
      },
      "cell_type": "code",
      "source": [
        "cd My\\ Drive"
      ],
      "execution_count": 22,
      "outputs": [
        {
          "output_type": "stream",
          "text": [
            "[Errno 2] No such file or directory: 'My Drive'\n",
            "/content/gdrive/My Drive\n"
          ],
          "name": "stdout"
        }
      ]
    },
    {
      "metadata": {
        "id": "ap4yp_TejsKl",
        "colab_type": "text"
      },
      "cell_type": "markdown",
      "source": [
        "# Start"
      ]
    },
    {
      "metadata": {
        "id": "C0oTjYUdjjeY",
        "colab_type": "code",
        "colab": {}
      },
      "cell_type": "code",
      "source": [
        "import pickle\n",
        "\n",
        "primary_train = pickle.load(open('training_primary_ints.pickle', 'rb'))#+1\n",
        "primary_test = pickle.load(open('testing_primary_ints.pickle', 'rb'))#+1\n",
        "primary_cv = pickle.load(open('validation_primary_ints.pickle', 'rb'))#+1\n",
        "\n",
        "#sequence_of_int = pickle.load(open('sequence_of_int.pickle', 'rb'))\n",
        "#pickle.dump(sequence_of_int, open('sequence_of_int.pickle', 'wb'))"
      ],
      "execution_count": 0,
      "outputs": []
    },
    {
      "metadata": {
        "id": "wHVMT5q1o5eX",
        "colab_type": "code",
        "colab": {
          "base_uri": "https://localhost:8080/",
          "height": 269
        },
        "outputId": "90ee6208-ed30-4280-d18f-376d37787fee"
      },
      "cell_type": "code",
      "source": [
        "lens=[]\n",
        "for p in primary_train:\n",
        "    if p.shape[0] > 600:\n",
        "        lens.append(p.shape[0])\n",
        "    \n",
        "import matplotlib.pyplot as plt\n",
        "import matplotlib.ticker as ticker\n",
        "\n",
        "plt.figure()\n",
        "    \n",
        "plt.hist(lens, label='numbers at each length')\n",
        "plt.hlines(256,0,1000)\n",
        "plt.show()"
      ],
      "execution_count": 53,
      "outputs": [
        {
          "output_type": "display_data",
          "data": {
            "image/png": "[encoded data removed]",
            "text/plain": [
              "<Figure size 432x288 with 1 Axes>"
            ]
          },
          "metadata": {
            "tags": []
          }
        }
      ]
    },
    {
      "metadata": {
        "id": "BIVy9N4TpBZc",
        "colab_type": "code",
        "colab": {}
      },
      "cell_type": "code",
      "source": [
        ""
      ],
      "execution_count": 0,
      "outputs": []
    },
    {
      "metadata": {
        "id": "cxu4llDK2zEF",
        "colab_type": "code",
        "outputId": "67fe8ea8-06b9-41b7-a9ab-27bb02236a5d",
        "colab": {
          "base_uri": "https://localhost:8080/",
          "height": 34
        }
      },
      "cell_type": "code",
      "source": [
        "primary_test.shape"
      ],
      "execution_count": 24,
      "outputs": [
        {
          "output_type": "execute_result",
          "data": {
            "text/plain": [
              "(40,)"
            ]
          },
          "metadata": {
            "tags": []
          },
          "execution_count": 24
        }
      ]
    },
    {
      "metadata": {
        "id": "LSco3uDAWcJI",
        "colab_type": "code",
        "outputId": "9a6b46f6-bc6a-4bcc-dd37-50f4d084d8f9",
        "colab": {
          "base_uri": "https://localhost:8080/",
          "height": 369
        }
      },
      "cell_type": "code",
      "source": [
        "primary_train[0]"
      ],
      "execution_count": 25,
      "outputs": [
        {
          "output_type": "execute_result",
          "data": {
            "text/plain": [
              "array([16,  2, 13,  0,  0,  4,  2, 16, 11,  7, 17, 16,  9, 16, 14,  4, 17,\n",
              "       10,  3,  3,  5, 10,  8,  0, 14,  5, 16,  5,  3, 10, 16, 13,  9,  9,\n",
              "       11, 15,  9,  1, 16,  0, 17,  8,  0,  7, 15, 16,  0, 17, 14,  8,  0,\n",
              "        5,  7,  0,  6,  9, 19,  5,  7,  0,  5, 15, 16, 11, 17, 16,  5,  2,\n",
              "       13, 17,  8,  8,  9,  2, 17,  9, 15, 11,  2,  9, 17,  7, 11, 17,  9,\n",
              "        8, 15, 15,  4,  0, 16,  1, 17,  9, 17, 15,  3,  3,  2,  8, 11,  0,\n",
              "        7,  7, 17,  3, 12,  3,  8, 14,  5,  8, 19, 17, 17,  1,  4,  2, 12,\n",
              "        9,  2,  5, 15, 15, 11,  7,  2,  1,  9, 17, 15,  7,  5, 16,  7,  4,\n",
              "        5,  7, 19, 14,  8, 11, 15, 16,  2,  3, 12, 15,  3,  8,  2,  0,  9,\n",
              "       13, 12,  5, 14, 11,  9, 17,  0,  0,  5, 19,  0,  9, 19,  5, 15,  0,\n",
              "       16, 10,  9, 17,  9,  0, 10, 17, 11,  5, 17, 11,  1,  4, 10,  9,  2,\n",
              "       12,  0,  7,  5,  3,  4,  7,  9, 17,  2, 14,  2, 17,  8,  7,  8,  8,\n",
              "        8,  5, 15,  7, 19, 15,  7, 11,  3,  5, 19,  0,  8,  3,  4,  2, 12,\n",
              "        0,  7, 16,  3, 19,  7, 13, 14,  8,  8,  4, 12, 12,  2, 11, 15,  0,\n",
              "       12, 19,  5,  0, 14, 19, 17,  5, 15, 10, 17,  0,  2, 17,  6, 14, 16,\n",
              "        9, 17, 19,  5,  5,  7,  4, 10, 19, 12,  0, 11,  8,  8, 15, 12,  8,\n",
              "        5,  8,  9, 14,  9,  9, 19,  3,  1, 11, 12, 10,  0, 19, 17, 10,  3,\n",
              "        8,  0,  5,  5,  9,  0, 16, 16,  5,  8,  3,  0, 17,  9,  2,  7, 17,\n",
              "       12, 16,  2,  7,  6, 13, 14,  0, 12,  7,  7,  9,  5, 15, 12,  3,  2,\n",
              "       17, 16,  3,  9,  9,  3,  7, 19, 13,  8,  6,  0,  0,  8])"
            ]
          },
          "metadata": {
            "tags": []
          },
          "execution_count": 25
        }
      ]
    },
    {
      "metadata": {
        "id": "a5wQC7kW6paO",
        "colab_type": "code",
        "colab": {}
      },
      "cell_type": "code",
      "source": [
        "\n",
        "lengths = []\n",
        "for s in primary_train: \n",
        "    lengths.append(len(s))\n",
        "import numpy as np\n",
        "#average length\n",
        "sum(lengths)/len(lengths)\n",
        "primary_train = primary_train[np.array(lengths) < 1000]\n",
        "\n",
        "\n",
        "lengths = []\n",
        "for s in primary_cv: \n",
        "    lengths.append(len(s))\n",
        "import numpy as np\n",
        "#average length\n",
        "sum(lengths)/len(lengths)\n",
        "primary_cv = primary_cv[np.array(lengths) < 1000]"
      ],
      "execution_count": 0,
      "outputs": []
    },
    {
      "metadata": {
        "id": "YpgavMc4qi5d",
        "colab_type": "code",
        "colab": {
          "base_uri": "https://localhost:8080/",
          "height": 34
        },
        "outputId": "ea326370-6fc4-4c4a-8c33-1d20bb977071"
      },
      "cell_type": "code",
      "source": [
        "primary_cv.shape"
      ],
      "execution_count": 27,
      "outputs": [
        {
          "output_type": "execute_result",
          "data": {
            "text/plain": [
              "(224,)"
            ]
          },
          "metadata": {
            "tags": []
          },
          "execution_count": 27
        }
      ]
    },
    {
      "metadata": {
        "id": "ySQ6sXOlJm66",
        "colab_type": "code",
        "outputId": "16fc6189-0cb6-40cb-9e98-3feedd472a99",
        "colab": {
          "base_uri": "https://localhost:8080/",
          "height": 70
        }
      },
      "cell_type": "code",
      "source": [
        "primary_train[1]"
      ],
      "execution_count": 28,
      "outputs": [
        {
          "output_type": "execute_result",
          "data": {
            "text/plain": [
              "array([15,  2,  9, 12,  0,  9, 15, 16,  5,  9,  9,  6,  9,  6, 13, 11,  7,\n",
              "       17,  2, 17, 13, 19, 10, 19,  5,  9, 15, 12,  0,  7, 16,  8, 19, 17,\n",
              "       17, 14])"
            ]
          },
          "metadata": {
            "tags": []
          },
          "execution_count": 28
        }
      ]
    },
    {
      "metadata": {
        "id": "VTIQlPQ3ay5A",
        "colab_type": "code",
        "colab": {}
      },
      "cell_type": "code",
      "source": [
        "# https://pytorch.org/tutorials/beginner/data_loading_tutorial.html \n",
        "import pandas as pd\n",
        "from torch.utils.data import Dataset, DataLoader, Sampler\n",
        "\n",
        "# I DONT ACTUALLY USE ANY OF THIS!!!!\n",
        "\n",
        "class PrimarySequences(Dataset):\n",
        "    def __init__(self, dataset):\n",
        "        self.sequences = dataset\n",
        "\n",
        "    def __len__(self):\n",
        "        return len(self.sequences)\n",
        "\n",
        "    def __getitem__(self, idx):\n",
        "        return self.sequences[idx], self.sequences[idx].shape[0] \n",
        "  "
      ],
      "execution_count": 0,
      "outputs": []
    },
    {
      "metadata": {
        "id": "QYcrj9R_eJQx",
        "colab_type": "code",
        "outputId": "72f0d088-aaeb-4c26-8935-f85ca9882253",
        "colab": {
          "base_uri": "https://localhost:8080/",
          "height": 34
        }
      },
      "cell_type": "code",
      "source": [
        "primary_train[0].shape"
      ],
      "execution_count": 30,
      "outputs": [
        {
          "output_type": "execute_result",
          "data": {
            "text/plain": [
              "(337,)"
            ]
          },
          "metadata": {
            "tags": []
          },
          "execution_count": 30
        }
      ]
    },
    {
      "metadata": {
        "id": "1mZIk-inb9sY",
        "colab_type": "code",
        "colab": {}
      },
      "cell_type": "code",
      "source": [
        "df_train = PrimarySequences(primary_train)\n",
        "df_cv = PrimarySequences(primary_cv)"
      ],
      "execution_count": 0,
      "outputs": []
    },
    {
      "metadata": {
        "id": "urElYMCq_3Dm",
        "colab_type": "code",
        "colab": {}
      },
      "cell_type": "code",
      "source": [
        "# https://discuss.pytorch.org/t/tensorflow-esque-bucket-by-sequence-length/41284/4 buckets things of only the exact same size. \n",
        "\n",
        "from collections import OrderedDict\n",
        "import numpy as np\n",
        "from random import shuffle\n",
        "\n",
        "class BucketDataset(Sampler):\n",
        "    # want inputs to be an array\n",
        "    def __init__(self, inputs, batch_size):\n",
        "        self.inputs = inputs      # shape = (N, max_seq_len)\n",
        "        self.targets = None    # shape = (N, ) or None (e.g., for autoencoder I can simply use inputs)\n",
        "        self.batch_size = batch_size\n",
        "        ind_n_len = []\n",
        "        for i, p in enumerate(inputs):\n",
        "            ind_n_len.append( (i, p.shape[0]) )\n",
        "        self.ind_n_len = ind_n_len\n",
        "        \n",
        "    def _generate_batch_map(self, equal_length=False):\n",
        "        \n",
        "        shuffle(self.ind_n_len) # shuffle all of the indices first so they are put into buckets differently\n",
        "        \n",
        "        batch_map = OrderedDict()\n",
        "        # Organize lengths, e.g., batch_map[10] = [30, 124, 203, ...] <= indices of sequences of length 10\n",
        "        for idx, length in self.ind_n_len:\n",
        "            if length not in batch_map:\n",
        "                batch_map[length] = [idx]\n",
        "            else:\n",
        "                batch_map[length].append(idx)\n",
        "        # Use batch_map to split indices into batches of equal size\n",
        "        # e.g., for batch_size=3, batch_list = [[23,45,47], [49,50,62], [63,65,66], ...]\n",
        "        batch_list = []\n",
        "        for length, indices in batch_map.items():\n",
        "            for group in [indices[i:(i+self.batch_size)] for i in range(0, len(indices), self.batch_size)]:\n",
        "                batch_list.append(group)\n",
        "        return batch_list\n",
        "\n",
        "    def batch_count(self):\n",
        "        return len(self.batch_list)\n",
        "\n",
        "    def __len__(self):\n",
        "        return len(self.lengths)\n",
        "\n",
        "    def __iter__(self):\n",
        "\n",
        "        batch_list = self._generate_batch_map()\n",
        "        \n",
        "        shuffle(batch_list) # shuffle all the batches so they arent ordered by bucket size\n",
        "        for i in batch_list: \n",
        "            yield i \n",
        "        "
      ],
      "execution_count": 0,
      "outputs": []
    },
    {
      "metadata": {
        "id": "W1wuO58Sf36f",
        "colab_type": "code",
        "colab": {}
      },
      "cell_type": "code",
      "source": [
        "def one_hotter(DataLoaderBatch):\n",
        "    \n",
        "    batch_split = list(zip(*DataLoaderBatch))\n",
        "    seqs, lengths = batch_split[0], batch_split[1]\n",
        "    \n",
        "    vocab_size = 20\n",
        "    batch_size = len(DataLoaderBatch)\n",
        "    max_length = lengths[0] # as all the lengths are the same in my case here! else take the max(lengths)\n",
        "    \n",
        "    y = torch.tensor(seqs).type(torch.LongTensor) #had device\n",
        "    y_onehot = torch.FloatTensor(batch_size, max_length, vocab_size)\n",
        "    y_onehot.zero_()\n",
        "    y_onehot.scatter_(2, torch.unsqueeze(y, 2), 1.0)\n",
        "    #print('max')\n",
        "    #print(y_onehot.max(dim=2)[1])\n",
        "    return y_onehot, torch.tensor(lengths)"
      ],
      "execution_count": 0,
      "outputs": []
    },
    {
      "metadata": {
        "id": "BtWoouzqA_yx",
        "colab_type": "text"
      },
      "cell_type": "markdown",
      "source": [
        "# Encoder and Decoder"
      ]
    },
    {
      "metadata": {
        "id": "9sHYAuiladdT",
        "colab_type": "code",
        "outputId": "81a0cd43-069e-4248-d9f2-c29a14675d87",
        "colab": {
          "base_uri": "https://localhost:8080/",
          "height": 105
        }
      },
      "cell_type": "code",
      "source": [
        "import torch.nn as nn\n",
        "import torch.nn.functional as F\n",
        "import numpy as np\n",
        "\n",
        "class EncoderNet(nn.Module):\n",
        "\n",
        "    def __init__(self, ENCODING_LSTM_OUTPUT=100, CODE_LAYER_SIZE=50, VOCAB_SIZE=20, ENCODER_LSTM_NUM_LAYERS=2 ):\n",
        "        super(EncoderNet, self).__init__()\n",
        "        #encoding\n",
        "        self.LSTM_NUM_LAYERS = ENCODER_LSTM_NUM_LAYERS\n",
        "        self.ENCODING_LSTM_OUTPUT = ENCODING_LSTM_OUTPUT\n",
        "        self.encoder = nn.LSTM(input_size=VOCAB_SIZE, hidden_size= self.ENCODING_LSTM_OUTPUT,num_layers=self.LSTM_NUM_LAYERS,bidirectional=True, batch_first=True)\n",
        "        #self.batchnorm = nn.BatchNorm1d(ENCODING_LSTM_OUTPUT * 2* self.LSTM_NUM_LAYERS) # as either 2 layers OR I concat them\n",
        "        self.dense1_enc = nn.Linear(in_features=(ENCODING_LSTM_OUTPUT* 2 ), out_features=CODE_LAYER_SIZE ) # * self.LSTM_NUM_LAYERS because it is bidirectional\n",
        "        self.dense2_enc = nn.Linear(in_features=CODE_LAYER_SIZE, out_features=CODE_LAYER_SIZE )\n",
        "        if self.LSTM_NUM_LAYERS >2:\n",
        "            print('WARNING, LSTM ENCODER HAS MORE THAN 2 LAYER, will need to change how hidden layers are concatenated!')\n",
        "\n",
        "    def forward(self, input, seq_len):\n",
        "        #print('encoder input', input)\n",
        "        #print('sequence length', seq_len)\n",
        "        # Pack padded batch of sequences for RNN module\n",
        "        #res = torch.nn.utils.rnn.pack_padded_sequence(input, seq_len, batch_first=True).cuda()\n",
        "        res, (hidden_h, hidden_c) = self.encoder(input)\n",
        "        #res = torch.nn.utils.rnn.pad_packed_sequence(res, batch_first=True).cuda() # only use if I want the output w/ all timesteps for the LSTM\n",
        "        # combine the bidirectional outputs, concatenate states from separate layers. \n",
        "        #print('hidden encoder that i concat', hidden_h.shape)\n",
        "        \n",
        "        res = torch.mean(res, dim=1)\n",
        "        \n",
        "        #res = res.view(self.LSTM_NUM_LAYERS, 2, input.shape[0], self.ENCODING_LSTM_OUTPUT)\n",
        "        \n",
        "        '''if self.LSTM_NUM_LAYERS ==2:\n",
        "            #res = hidden_h.view(self.LSTM_NUM_LAYERS, 2, input.shape[0], self.ENCODING_LSTM_OUTPUT)\n",
        "            \n",
        "            # may be much more efficient ways to do this:\n",
        "            res = torch.cat( (torch.cat( (res[0,0,:,:], res[0,1,:,:]) ,1), torch.cat( (res[1,0,:,:], res[1,1,:,:]) ,1) ), 1)\n",
        "            #res= torch.cat( (torch.add(torch.mean(res[0,:,:], dim=),hidden_h[1,:,:]),torch.add(hidden_h[2,:,:],hidden_h[3,:,:])), 1)\n",
        "        else: \n",
        "            # average over all of the hidden states!\n",
        "            print(res.shape)\n",
        "            # res = torch.mean( res, dim=1)\n",
        "            torch.cat((hidden_h[0,:,:],hidden_h[1,:,:]), 1) '''\n",
        "        #res = self.batchnorm(res)\n",
        "        res = self.dense2_enc(F.elu(self.dense1_enc(res))) # used to have F.tanh here!\n",
        "        return res\n",
        "\n",
        "encoder_net = EncoderNet()\n",
        "print(encoder_net)"
      ],
      "execution_count": 36,
      "outputs": [
        {
          "output_type": "stream",
          "text": [
            "EncoderNet(\n",
            "  (encoder): LSTM(20, 100, num_layers=2, batch_first=True, bidirectional=True)\n",
            "  (dense1_enc): Linear(in_features=200, out_features=50, bias=True)\n",
            "  (dense2_enc): Linear(in_features=50, out_features=50, bias=True)\n",
            ")\n"
          ],
          "name": "stdout"
        }
      ]
    },
    {
      "metadata": {
        "id": "z897GABlJQIv",
        "colab_type": "code",
        "outputId": "b46f0003-c1fe-43b7-d008-77443fa8fa55",
        "colab": {
          "base_uri": "https://localhost:8080/",
          "height": 87
        }
      },
      "cell_type": "code",
      "source": [
        "class DecoderNet(nn.Module):\n",
        "\n",
        "    def __init__(self, DECODING_LSTM_OUTPUT=100, CODE_LAYER_SIZE=50, VOCAB_SIZE=20, DECODER_LSTM_NUM_LAYERS=1 ):\n",
        "        super(DecoderNet, self).__init__()\n",
        "        #decode it should be the inverse of the encoder!\n",
        "        #self.dense1_predecode = nn.Linear(in_features=(CODE_LAYER_SIZE), out_features=50 )\n",
        "        #self.dense1_pre_dec = nn.Linear(in_features=(CODE_LAYER_SIZE), out_features=200 )\n",
        "        self.LSTM_OUTPUT_SIZE = DECODING_LSTM_OUTPUT\n",
        "        #self.decoder_out = nn.LSTM(input_size=int(CODE_LAYER_SIZE/2),bidirectional=False, hidden_size=VOCAB_SIZE,num_layers=1, batch_first=True)\n",
        "        self.LSTM_NUM_LAYERS=DECODER_LSTM_NUM_LAYERS\n",
        "        self.CODE_LAYER_SIZE=CODE_LAYER_SIZE\n",
        "        self.VOCAB_SIZE=VOCAB_SIZE\n",
        "        self.decoder = nn.LSTM(input_size=CODE_LAYER_SIZE,bidirectional=True, \n",
        "                               hidden_size=self.LSTM_OUTPUT_SIZE,num_layers=self.LSTM_NUM_LAYERS, batch_first=True)\n",
        "        # should be half the size but the LSTM is bidirectional. \n",
        "        #self.batchnorm = nn.BatchNorm1d(self.LSTM_OUTPUT_SIZE)\n",
        "        #self.dense1_post_dec = nn.Linear(in_features=(self.LSTM_OUTPUT_SIZE), out_features=50 )\n",
        "        self.dense2_post_dec = nn.Linear(in_features=self.LSTM_OUTPUT_SIZE*2, out_features=VOCAB_SIZE )\n",
        "        #self.dense3_post_dec = nn.Linear(in_features=50, out_features=VOCAB_SIZE )\n",
        "\n",
        "    def forward(self, latent_space, prev_out, hidden):\n",
        "        #decoding. takes in a single latent code from a single part of the batch. \n",
        "        # where input is the teacher forcing or the predictions from the previous step.\n",
        "\n",
        "        prev_out, hidden = self.decoder(latent_space)\n",
        "        \n",
        "        #print('batch norm ', prev_out.shape)\n",
        "        #prev_out = self.batchnorm(prev_out.permute([0,2,1])).permute([0,2,1]).contiguous()\n",
        "        #print('batch norm ', prev_out.shape)\n",
        "        #prev_out = F.elu(self.dense1_post_dec(prev_out))\n",
        "        prev_out = F.log_softmax(self.dense2_post_dec(prev_out), dim=2)\n",
        "        \n",
        "        return prev_out, hidden\n",
        "    \n",
        "    def initHidden(self, batch_size):\n",
        "        hidden_h = torch.empty([self.LSTM_NUM_LAYERS,batch_size,int(self.LSTM_OUTPUT_SIZE)], device=device)\n",
        "        torch.nn.init.orthogonal_(hidden_h, gain=nn.init.calculate_gain('tanh'))\n",
        "        return (hidden_h,\n",
        "                torch.zeros([self.LSTM_NUM_LAYERS,batch_size,int(self.LSTM_OUTPUT_SIZE)], device=device))\n",
        "\n",
        "'''   def initHidden_Out(self, batch_size):\n",
        "        return (torch.zeros([1,batch_size,self.VOCAB_SIZE], device=device),\n",
        "                torch.zeros([1,batch_size,self.VOCAB_SIZE], device=device))'''\n",
        "\n",
        "decoder_net = DecoderNet()\n",
        "print(decoder_net)"
      ],
      "execution_count": 37,
      "outputs": [
        {
          "output_type": "stream",
          "text": [
            "DecoderNet(\n",
            "  (decoder): LSTM(50, 100, batch_first=True, bidirectional=True)\n",
            "  (dense2_post_dec): Linear(in_features=200, out_features=20, bias=True)\n",
            ")\n"
          ],
          "name": "stdout"
        }
      ]
    },
    {
      "metadata": {
        "id": "y0jzD1cctdpm",
        "colab_type": "text"
      },
      "cell_type": "markdown",
      "source": [
        "# Useful functions"
      ]
    },
    {
      "metadata": {
        "id": "l25UdNsstb4N",
        "colab_type": "code",
        "colab": {}
      },
      "cell_type": "code",
      "source": [
        "import time\n",
        "import math\n",
        "def asMinutes(s):\n",
        "    m = math.floor(s / 60)\n",
        "    s -= m * 60\n",
        "    return '%dm %ds' % (m, s)\n",
        "\n",
        "def timeSince(since, percent):\n",
        "    now = time.time()\n",
        "    s = now - since\n",
        "    es = s / (percent)\n",
        "    rs = es - s\n",
        "    return '%s (- %s)' % (asMinutes(s), asMinutes(rs))\n",
        "\n",
        "\n"
      ],
      "execution_count": 0,
      "outputs": []
    },
    {
      "metadata": {
        "id": "SQ9iRp3rDhno",
        "colab_type": "code",
        "colab": {}
      },
      "cell_type": "code",
      "source": [
        "def printParamNum(encoder_net, decoder_net):\n",
        "    params=0\n",
        "    for net in [encoder_net, decoder_net]:\n",
        "        model_parameters = filter(lambda p: p.requires_grad, net.parameters())\n",
        "        params += sum([np.prod(p.size()) for p in net.parameters()])\n",
        "    print('total model parameters: ',params)"
      ],
      "execution_count": 0,
      "outputs": []
    },
    {
      "metadata": {
        "id": "MAzY8aH7f_kw",
        "colab_type": "code",
        "outputId": "e7dff854-6c93-4643-8b19-99487c3f2e48",
        "colab": {
          "base_uri": "https://localhost:8080/",
          "height": 54
        }
      },
      "cell_type": "code",
      "source": [
        "'''params=0\n",
        "net= encoder_net\n",
        "model_parameters = filter(lambda p: p.requires_grad, net.parameters())\n",
        "params += sum([np.prod(p.size()) for p in net.parameters()])\n",
        "print('total model parameters: ',params)'''"
      ],
      "execution_count": 40,
      "outputs": [
        {
          "output_type": "execute_result",
          "data": {
            "text/plain": [
              "\"params=0\\nnet= encoder_net\\nmodel_parameters = filter(lambda p: p.requires_grad, net.parameters())\\nparams += sum([np.prod(p.size()) for p in net.parameters()])\\nprint('total model parameters: ',params)\""
            ]
          },
          "metadata": {
            "tags": []
          },
          "execution_count": 40
        }
      ]
    },
    {
      "metadata": {
        "id": "Px1G8Ag6A4I7",
        "colab_type": "code",
        "colab": {}
      },
      "cell_type": "code",
      "source": [
        "def saveModel(encoder_net, decoder_net,encoder_optimizer, decoder_optimizer, save_name, train_loss, eval_acc, e):\n",
        "    for name, net, optim in zip(['encoder_save','decoder_save'],[encoder_net, decoder_net],[encoder_optimizer, decoder_optimizer] ):\n",
        "        torch.save({\n",
        "                    'epoch': e,\n",
        "                    'model_state_dict': net.state_dict(),\n",
        "                    'optimizer_state_dict': optim.state_dict(),\n",
        "                    'last_loss': train_loss,\n",
        "                    'eval_accuracy':eval_acc\n",
        "                    }, save_name+name+'.tar')\n",
        "    print('saveModel worked')"
      ],
      "execution_count": 0,
      "outputs": []
    },
    {
      "metadata": {
        "id": "EvJ54q0mA6u-",
        "colab_type": "code",
        "colab": {}
      },
      "cell_type": "code",
      "source": [
        "def loadModel(encoder_net, decoder_net,encoder_optimizer, decoder_optimizer, load_name, ignore_optim=False):\n",
        "    #ignore optim is for when I am loading in a model to assess predictions and not training it anymore. \n",
        "    for name, net, optim in zip(['encoder_save','decoder_save'],[encoder_net, decoder_net],[encoder_optimizer, decoder_optimizer] ):\n",
        "        checkpoint = torch.load(load_name+name+'.tar')\n",
        "        state = checkpoint['model_state_dict'] #.state_dict()\n",
        "        #state.update(net.state_dict())\n",
        "        net.load_state_dict(state)#checkpoint['model_state_dict'])\n",
        "        if not ignore_optim:\n",
        "            optim.load_state_dict(checkpoint['optimizer_state_dict'])\n",
        "        e = checkpoint['epoch']\n",
        "        loss = checkpoint['last_loss']\n",
        "        best_eval_acc = checkpoint['eval_accuracy']\n",
        "    print('loaded in previous model!')\n",
        "    return encoder_net, decoder_net,encoder_optimizer, decoder_optimizer, loss, e, best_eval_acc"
      ],
      "execution_count": 0,
      "outputs": []
    },
    {
      "metadata": {
        "id": "-Vcgo4AaumR3",
        "colab_type": "code",
        "colab": {}
      },
      "cell_type": "code",
      "source": [
        "def init_weights(m):\n",
        "    if type(m) == nn.Linear:\n",
        "        torch.nn.init.xavier_uniform_(m.weight, gain=nn.init.calculate_gain('relu'))\n",
        "        m.bias.data.fill_(0.01)\n",
        "    elif type(m) == nn.LSTM:\n",
        "        for name, param in m.named_parameters():\n",
        "            if 'weight' in name:\n",
        "                torch.nn.init.xavier_uniform_(param, gain=nn.init.calculate_gain('tanh'))\n",
        "            if 'bias' in name:\n",
        "                param = torch.zeros(param.shape)\n",
        "                "
      ],
      "execution_count": 0,
      "outputs": []
    },
    {
      "metadata": {
        "id": "K0ZFfPDw_J2K",
        "colab_type": "code",
        "colab": {}
      },
      "cell_type": "code",
      "source": [
        "def save_weights(m):\n",
        "    save_init_weights = dict()\n",
        "    for name, param in m.named_parameters():\n",
        "        save_init_weights[name] = param\n",
        "    return save_init_weights"
      ],
      "execution_count": 0,
      "outputs": []
    },
    {
      "metadata": {
        "id": "g_himfbRAueM",
        "colab_type": "code",
        "colab": {}
      },
      "cell_type": "code",
      "source": [
        "def cross_entropy_one_hot(Y_hat, Y):\n",
        "    criterion = torch.nn.NLLLoss(size_average=True, ignore_index=-1)\n",
        "    loss=  criterion(Y_hat.permute([0,2,1]).contiguous(), Y.max(dim=2)[1])\n",
        "    #print('y shape', Y.shape)\n",
        "    \n",
        "    # flatten all the labels\n",
        "    Y = Y.max(dim=2)[1].view(-1)\n",
        "    Y_hat = Y_hat.view(-1, VOCAB_SIZE)\n",
        "    #mask = (Y > 0).float()\n",
        "    nb_tokens = Y.shape[0]#int(torch.sum(mask).item())\n",
        "    #get accuracy\n",
        "    top_preds = Y_hat.max(dim=1)[1]\n",
        "    acc = torch.sum( torch.eq(top_preds, Y).type(torch.cuda.FloatTensor))/nb_tokens  #*mask) / nb_tokens\n",
        "    #Y_hat = Y_hat[torch.arange(Y_hat.shape[0]), Y]* mask\n",
        "    \n",
        "    return loss, acc\n",
        "    "
      ],
      "execution_count": 0,
      "outputs": []
    },
    {
      "metadata": {
        "id": "J7loCa-I4xVt",
        "colab_type": "code",
        "colab": {}
      },
      "cell_type": "code",
      "source": [
        "def train_forward(encoder_net, decoder_net, seqs, lengths, device, readout=True, teacher_forcing=False, make_preds=False, print_preds=False ):\n",
        "  \n",
        "    latent = encoder_net(seqs,lengths)\n",
        "    \n",
        "    batch_size = seqs.shape[0]\n",
        "    max_l = torch.max(lengths)\n",
        "    hidden = decoder_net.initHidden(batch_size)\n",
        "    \n",
        "    # need to give each of the latents a time step proportional to their length number. \n",
        "    # get rid of the time STEPS IF DOING TEACHER FORCING AND INCREMENT THE INPUTS BY ONE!\n",
        "    if(readout==True): \n",
        "\n",
        "        batch_outs = torch.zeros([batch_size,max_l, VOCAB_SIZE], device=device, requires_grad=False)\n",
        "        \n",
        "        # if another LSTM need to add this one and another one. \n",
        "        #hidden_out = decoder_net.initHidden_Out(batch_size)\n",
        "        \n",
        "        if (not teacher_forcing):\n",
        "            #time_steps=1\n",
        "            prev_out = torch.zeros([batch_size,1, 1], device=device, requires_grad=False)\n",
        "            latent = latent.view(latent.shape[0],1,latent.shape[1])\n",
        "            for t in range(max_l):\n",
        "                prev_out, hidden = decoder_net(latent, prev_out, hidden)\n",
        "                #print('is prev out requires grad? ', prev_out.requires_grad)\n",
        "                batch_outs[:,t,:]= prev_out.squeeze()\n",
        "                prev_out = prev_out.max(dim=2, keepdim=True)[1].to(torch.float32)\n",
        "                \n",
        "        else:\n",
        "            latent = latent.view(latent.shape[0],1,latent.shape[1]).expand(-1,max_l.item(),-1)\n",
        "            ground_truth = seqs.max(dim=2, keepdim=True)[1][:,:-1,:]\n",
        "            #prev_out = input[0].max(dim=2, keepdim=True)[1].to(torch.float32).to(device) # this was just seeing if the model would learn. \n",
        "            prev_out = torch.cat( (torch.zeros([ground_truth.shape[0], 1, 1]), ground_truth.to(torch.float32) ) ,1).to(device) #as both tensors should already be in cuda!\n",
        "            #print('shape of prev out', prev_out.shape)\n",
        "            #print('what does prev out look like? arranged right?', prev_out[0,:,:])\n",
        "            batch_outs, hidden = decoder_net(latent, prev_out, hidden)\n",
        "        # add zero padding to the end. Dont need to do as I am computing each batch now. \n",
        "        #batch_outs[b_ind,:,:].add_( torch.cat( ( seq_outs, torch.zeros([ (max_l-length) ,VOCAB_SIZE] , device=device, requires_grad=False) ) , 0))\n",
        "\n",
        "    else: \n",
        "        prev_out = torch.zeros([batch_size,max_l.item(), 1], device=device, requires_grad=False)\n",
        "        # this was for the original keras model where I needed to repeat vector the latent space. \n",
        "        batch_outs, hidden = decoder_net( latent.view(batch_size,1,-1).expand(-1,max_l.item(),-1),prev_out, hidden)\n",
        "\n",
        "    if make_preds:\n",
        "        return batch_outs\n",
        "    \n",
        "    if print_preds:\n",
        "        # always print a random number. \n",
        "        rand_ind = int(torch.rand([1]).item()*batch_size)\n",
        "        print('ground truth', seqs.max(dim=2)[1][rand_ind,:])\n",
        "        print('predicted values', batch_outs.max(dim=2)[1][rand_ind,:])\n",
        "    \n",
        "    # feed in the sequence length for each example and the truth\n",
        "    return cross_entropy_one_hot(batch_outs, seqs)"
      ],
      "execution_count": 0,
      "outputs": []
    },
    {
      "metadata": {
        "id": "GFKoJDXKI-ft",
        "colab_type": "text"
      },
      "cell_type": "markdown",
      "source": [
        "# Model Trainer"
      ]
    },
    {
      "metadata": {
        "id": "7hoO7VVxI8p6",
        "colab_type": "code",
        "colab": {}
      },
      "cell_type": "code",
      "source": [
        "\n",
        "def fitModel(encoder_net, decoder_net, encoder_optimizer, \n",
        "             decoder_optimizer, BATCH_SIZE, epochs, e, learning_rate, \n",
        "             mem_pin, device, save_name, load_name, readout, allow_teacher_force, \n",
        "             teaching_strategy, clip, want_preds_printed, encoder_scheduler, decoder_scheduler):\n",
        "    \n",
        "    print('device being used is: ', device)\n",
        "    print('teacher forcing?', allow_teacher_force)\n",
        "    print('teaching strategy', teaching_strategy)\n",
        "\n",
        "    start = time.time()\n",
        "    plot_losses_train = []\n",
        "    plot_losses_eval = []\n",
        "    print_loss_total = 0 \n",
        "    plot_loss_total = 0\n",
        "    running_loss = 0\n",
        "    prob_of_teacher_forcing = 0.7\n",
        "    #bad_loss_running = 0\n",
        "    print_every=1\n",
        "    plot_every=1\n",
        "    accuracy_running =0.0\n",
        "    num_batches_per_epoch = int(len(df_train)/BATCH_SIZE)\n",
        "    num_eval_batches_per_epoch = int(len(df_cv)/BATCH_SIZE)\n",
        "    accuracy=0.05*num_batches_per_epoch # need it for my teacher forcing calc. \n",
        "    best_eval_acc = 0.0\n",
        "    print('approximate num batches per ep', num_batches_per_epoch)\n",
        "    # how often to print minibatch loss\n",
        "    print_mini_every = 100\n",
        "\n",
        "    printParamNum(encoder_net, decoder_net)\n",
        "\n",
        "    encoder_optimizer.zero_grad()\n",
        "    decoder_optimizer.zero_grad()\n",
        "\n",
        "    print('mem pinned? ', mem_pin)\n",
        "    \n",
        "    sampler = BucketDataset(primary_train, BATCH_SIZE)\n",
        "    dataloader = DataLoader(df_train, batch_size=1, \n",
        "                            batch_sampler=sampler, shuffle=False,\n",
        "                            num_workers=8, collate_fn=one_hotter, \n",
        "                            drop_last=False, pin_memory=mem_pin)\n",
        "\n",
        "    evaluate_sampler = BucketDataset(primary_cv, BATCH_SIZE)\n",
        "    evaluate_dataloader = DataLoader(df_cv, batch_size=1, \n",
        "                        batch_sampler=evaluate_sampler, shuffle=False,\n",
        "                        num_workers=8, collate_fn=one_hotter, \n",
        "                        drop_last=False, pin_memory=mem_pin)\n",
        "    #evaluate_dataloader = DataLoader(df_cv, batch_size=BATCH_SIZE, shuffle=True, num_workers=8, collate_fn=pad_and_sort_batch, drop_last=False, pin_memory=mem_pin)\n",
        "    mini_batch_iters=0\n",
        "    \n",
        "    print('number of epochs', (epochs+e))\n",
        "    \n",
        "    init_e = e\n",
        "\n",
        "    while e < (epochs+init_e):  \n",
        "        print('Epoch', e)\n",
        "        ep_loss = 0.0\n",
        "        accuracy=0.0\n",
        "        num_batches_per_epoch =0\n",
        "\n",
        "        # iterate through data\n",
        "        for x in dataloader:\n",
        "            \n",
        "            seqs = x[0].to(device)\n",
        "            lengths = x[1].to(device)\n",
        "\n",
        "            num_batches_per_epoch += 1\n",
        "            \n",
        "            encoder_optimizer.zero_grad()\n",
        "            decoder_optimizer.zero_grad()\n",
        "\n",
        "            if allow_teacher_force:\n",
        "                rand_for_teacher_forcing = np.random.rand(1)[0]\n",
        "                teacher_force= True if rand_for_teacher_forcing < prob_of_teacher_forcing else False\n",
        "            else:\n",
        "                teacher_force= False\n",
        "                \n",
        "            loss, acc = train_forward(encoder_net, decoder_net, seqs, lengths, device, \n",
        "                                      teacher_forcing=teacher_force, readout=readout)#, print_preds=want_preds_printed)\n",
        "\n",
        "            loss.backward()\n",
        "            \n",
        "            # Clip gradients: gradients are modified in place\n",
        "            encoder_clip = torch.nn.utils.clip_grad_norm_(encoder_net.parameters(), clip)\n",
        "            if encoder_clip > clip:\n",
        "                print('clipped encoder gradient with a value of: ', encoder_clip)\n",
        "            decoder_clip = torch.nn.utils.clip_grad_norm_(decoder_net.parameters(), clip)\n",
        "            if decoder_clip > clip:\n",
        "                print('clipped decoder gradient with a value of: ', decoder_clip)\n",
        "\n",
        "            encoder_optimizer.step()\n",
        "            decoder_optimizer.step()\n",
        "            \n",
        "            accuracy += acc.item()\n",
        "            accuracy_running += acc.item()\n",
        "\n",
        "            print_loss_total += loss.item()\n",
        "            plot_loss_total += loss.item()\n",
        "\n",
        "            running_loss +=  loss.item()\n",
        "            ep_loss +=  loss.item()\n",
        "\n",
        "            mini_batch_iters+=1\n",
        "\n",
        "            if mini_batch_iters % print_mini_every == (print_mini_every-1):\n",
        "                print('# of minibatch iters:', (mini_batch_iters+1), 'prints every', print_mini_every, 'loss: ', \n",
        "                      round( (running_loss/print_mini_every), 4), 'accuracy', round((accuracy_running/print_mini_every),4) )\n",
        "                running_loss = 0.0\n",
        "                accuracy_running =0.0\n",
        "\n",
        "        print('Total loss for epoch ',e, 'is: ', round(ep_loss ,4))\n",
        "\n",
        "        if (e % print_every == 0):\n",
        "            #print('mini batch count', mini_batch_iters)\n",
        "            #print('number of batches per ep', num_batches_per_epoch)\n",
        "            print_loss_avg = (print_loss_total / print_every) / num_batches_per_epoch\n",
        "            plot_losses_train.append(print_loss_avg)\n",
        "            print_loss_total = 0\n",
        "            print('Time passed: %s Time Till Done: (%d %d%%) Loss average: %.4f Accuracy: %.4f' % (timeSince(start, e / epochs), e, e /epochs * 100, print_loss_avg, \n",
        "                                                                                                   accuracy/num_batches_per_epoch) )\n",
        "        # cross_eval of model: \n",
        "        with torch.no_grad():\n",
        "            encoder_net.eval()\n",
        "            decoder_net.eval()\n",
        "            tot_eval_loss = 0.0\n",
        "            tot_eval_acc = 0.0\n",
        "            num_eval_batches_per_epoch = 0 \n",
        "            for cv_batch in evaluate_dataloader:\n",
        "                \n",
        "                seqs = cv_batch[0].to(device)\n",
        "                lengths = cv_batch[1].to(device)\n",
        "                \n",
        "                num_eval_batches_per_epoch += 1\n",
        "                eval_loss, eval_acc = train_forward(encoder_net, decoder_net, seqs,lengths, device, teacher_forcing=False, readout=readout, print_preds=want_preds_printed)\n",
        "                tot_eval_loss+= eval_loss.item()\n",
        "                tot_eval_acc+= eval_acc.item()\n",
        "            tot_eval_acc = tot_eval_acc/num_eval_batches_per_epoch\n",
        "            tot_eval_loss = tot_eval_loss/num_eval_batches_per_epoch\n",
        "            plot_losses_eval.append(tot_eval_loss)\n",
        "            print('Eval Loss average per batch: %.4f Accuracy: %.4f' % (tot_eval_loss, tot_eval_acc) ) \n",
        "            if (accuracy/num_batches_per_epoch>best_eval_acc):\n",
        "                print('new best eval_accuracy! At:', round(tot_eval_acc,4),' Saving model')\n",
        "                best_eval_acc = accuracy/num_batches_per_epoch\n",
        "                saveModel(encoder_net, decoder_net,encoder_optimizer, decoder_optimizer, save_name, loss.item(), tot_eval_acc, e)\n",
        "        \n",
        "        encoder_net.train()\n",
        "        decoder_net.train()\n",
        "        \n",
        "        # determine probability of teacher forcing for the next epoch\n",
        "        if(allow_teacher_force and teaching_strategy =='accuracy'): \n",
        "            prob_of_teacher_forcing = 1-((accuracy/num_batches_per_epoch)+0.3)\n",
        "            print('prob use teacher forcing this epoch', round(prob_of_teacher_forcing,2))\n",
        "            \n",
        "        elif(allow_teacher_force and teaching_strategy=='epoch'):\n",
        "            prob_of_teacher_forcing = 0.7-(e/100)\n",
        "            print('prob use teacher forcing this epoch', round(prob_of_teacher_forcing,2))\n",
        "        \n",
        "        pickle.dump((plot_losses_train, plot_losses_eval), open(save_name+'list_of_losses_to_plot.pickle', 'wb'))\n",
        "        \n",
        "        encoder_scheduler.step(accuracy/num_batches_per_epoch)\n",
        "        decoder_scheduler.step(accuracy/num_batches_per_epoch)\n",
        "        \n",
        "        e +=1\n"
      ],
      "execution_count": 0,
      "outputs": []
    },
    {
      "metadata": {
        "id": "H6es5N1hX9xO",
        "colab_type": "text"
      },
      "cell_type": "markdown",
      "source": [
        "# Train Command Center"
      ]
    },
    {
      "metadata": {
        "id": "kSdRoNGJvkNr",
        "colab_type": "code",
        "outputId": "da39f512-4d53-4d6b-896d-2715ee095384",
        "colab": {
          "base_uri": "https://localhost:8080/",
          "height": 2686
        }
      },
      "cell_type": "code",
      "source": [
        "import torch.optim as optim\n",
        "\n",
        "ENCODING_LSTM_OUTPUT=800\n",
        "CODE_LAYER_SIZE=300\n",
        "DECODING_LSTM_OUTPUT=800\n",
        "VOCAB_SIZE=20\n",
        "ENCODER_LSTM_NUM_LAYERS=2\n",
        "DECODER_LSTM_NUM_LAYERS=2\n",
        "device = torch.device(\"cuda\" if torch.cuda.is_available() else \"cpu\") \n",
        "\n",
        "mem_pin = False\n",
        "BATCH_SIZE = 256\n",
        "epochs = 500\n",
        "curr_ep = 1 # cant be 0 else later on there is division by zero!\n",
        "learning_rate=0.0001\n",
        "clip=30\n",
        "\n",
        "readout=False\n",
        "allow_teacher_force = False\n",
        "teaching_strategy = 'epoch' # can also be 'accuracy'\n",
        "want_preds_printed = False\n",
        "\n",
        "encoder_net = EncoderNet(ENCODING_LSTM_OUTPUT=ENCODING_LSTM_OUTPUT, CODE_LAYER_SIZE=CODE_LAYER_SIZE, \n",
        "                         VOCAB_SIZE=VOCAB_SIZE, ENCODER_LSTM_NUM_LAYERS=ENCODER_LSTM_NUM_LAYERS).to(device)\n",
        "decoder_net = DecoderNet(DECODING_LSTM_OUTPUT=DECODING_LSTM_OUTPUT, CODE_LAYER_SIZE=CODE_LAYER_SIZE, \n",
        "                         VOCAB_SIZE=VOCAB_SIZE, DECODER_LSTM_NUM_LAYERS=DECODER_LSTM_NUM_LAYERS).to(device)\n",
        "\n",
        "encoder_optimizer = optim.RMSprop(encoder_net.parameters(), lr=learning_rate)\n",
        "decoder_optimizer = optim.RMSprop(decoder_net.parameters(), lr=learning_rate)\n",
        "\n",
        "#encoder_optimizer = optim.SGD(encoder_net.parameters(), lr=learning_rate, momentum =0.9)\n",
        "#decoder_optimizer = optim.SGD(decoder_net.parameters(), lr=learning_rate, momentum =0.9)\n",
        "\n",
        "# initialize the model weights! \n",
        "'''enc_saved_weights = dict()\n",
        "dec_saved_weights = dict()'''\n",
        "#nn.init.xavier_uniform_(w, gain=nn.init.calculate_gain('relu'))\n",
        "for net in [encoder_net, decoder_net]: #, save_dict in zip([encoder_net, decoder_net], [enc_saved_weights, dec_saved_weights]):\n",
        "    net.apply(init_weights)\n",
        "    #save_dict = net.apply(save_weights)\n",
        "\n",
        "#LOAD IN EXISTING MODEL? \n",
        "load_model =False\n",
        "save_name = 'code300_' \n",
        "load_name = 'code300'\n",
        "print('Name that all models for this train will be saved under:', save_name)\n",
        "if load_model:\n",
        "    print(\"LOADING IN A MODEL, load_model=True\")\n",
        "    encoder_net, decoder_net,encoder_optimizer, decoder_optimizer, loss, curr_ep, best_eval_acc = loadModel(encoder_net, decoder_net,encoder_optimizer, decoder_optimizer, load_name)\n",
        "\n",
        "encoder_net.train()\n",
        "decoder_net.train()\n",
        "\n",
        "# WATCH OUT FOR MIN VS MAX!!!\n",
        "encoder_scheduler = optim.lr_scheduler.ReduceLROnPlateau(encoder_optimizer, 'max', factor=0.5, patience=10, verbose=True, threshold=0.0001 )\n",
        "decoder_scheduler = optim.lr_scheduler.ReduceLROnPlateau(decoder_optimizer, 'max', factor=0.5, patience=10, verbose=True, threshold=0.0001  )\n",
        "    \n",
        "fitModel(encoder_net, decoder_net, encoder_optimizer, decoder_optimizer, \n",
        "         BATCH_SIZE, epochs, curr_ep, learning_rate, mem_pin, device, \n",
        "         save_name, load_name, readout, allow_teacher_force, teaching_strategy, clip, want_preds_printed, encoder_scheduler, decoder_scheduler)\n"
      ],
      "execution_count": 49,
      "outputs": [
        {
          "output_type": "stream",
          "text": [
            "Name that all models for this train will be saved under: simple_model_larger_encoder4_\n",
            "device being used is:  cuda\n",
            "teacher forcing? False\n",
            "teaching strategy epoch\n",
            "approximate num batches per ep 404\n",
            "total model parameters:  18883020\n",
            "mem pinned?  False\n",
            "number of epochs 501\n",
            "Epoch 1\n"
          ],
          "name": "stdout"
        },
        {
          "output_type": "stream",
          "text": [
            "/usr/local/lib/python3.6/dist-packages/torch/nn/_reduction.py:49: UserWarning: size_average and reduce args will be deprecated, please use reduction='mean' instead.\n",
            "  warnings.warn(warning.format(ret))\n"
          ],
          "name": "stderr"
        },
        {
          "output_type": "stream",
          "text": [
            "# of minibatch iters: 50 prints every 50 loss:  2.8619 accuracy 0.0855\n",
            "# of minibatch iters: 100 prints every 50 loss:  2.8951 accuracy 0.0958\n",
            "# of minibatch iters: 150 prints every 50 loss:  2.8727 accuracy 0.1055\n",
            "# of minibatch iters: 200 prints every 50 loss:  2.8601 accuracy 0.1095\n",
            "# of minibatch iters: 250 prints every 50 loss:  2.849 accuracy 0.1121\n",
            "# of minibatch iters: 300 prints every 50 loss:  2.8491 accuracy 0.1116\n",
            "# of minibatch iters: 350 prints every 50 loss:  2.8463 accuracy 0.1101\n",
            "# of minibatch iters: 400 prints every 50 loss:  2.8379 accuracy 0.1123\n",
            "# of minibatch iters: 450 prints every 50 loss:  2.8499 accuracy 0.1107\n",
            "# of minibatch iters: 500 prints every 50 loss:  2.8391 accuracy 0.1118\n",
            "# of minibatch iters: 550 prints every 50 loss:  2.8382 accuracy 0.1113\n",
            "# of minibatch iters: 600 prints every 50 loss:  2.844 accuracy 0.1102\n",
            "# of minibatch iters: 650 prints every 50 loss:  2.8281 accuracy 0.1141\n",
            "# of minibatch iters: 700 prints every 50 loss:  2.8427 accuracy 0.1085\n",
            "# of minibatch iters: 750 prints every 50 loss:  2.8175 accuracy 0.1159\n",
            "# of minibatch iters: 800 prints every 50 loss:  2.8165 accuracy 0.1165\n",
            "# of minibatch iters: 850 prints every 50 loss:  2.8062 accuracy 0.1197\n",
            "# of minibatch iters: 900 prints every 50 loss:  2.8255 accuracy 0.1141\n",
            "# of minibatch iters: 950 prints every 50 loss:  2.8175 accuracy 0.1173\n",
            "# of minibatch iters: 1000 prints every 50 loss:  2.8251 accuracy 0.1154\n",
            "# of minibatch iters: 1050 prints every 50 loss:  2.8173 accuracy 0.1166\n",
            "# of minibatch iters: 1100 prints every 50 loss:  2.828 accuracy 0.1148\n",
            "Total loss for epoch  1 is:  3131.8226\n",
            "Time passed: 18m 54s (- 9434m 58s) Time Till Done: (1 0%) Loss average: 2.8419 Accuracy: 0.1110\n",
            "Eval Loss average per batch: 2.7568 Accuracy: 0.1332\n",
            "new best eval_accuracy! At: 0.1332  Saving model\n",
            "saveModel worked\n",
            "Epoch 2\n"
          ],
          "name": "stdout"
        },
        {
          "output_type": "stream",
          "text": [
            "Traceback (most recent call last):\n",
            "Traceback (most recent call last):\n",
            "Traceback (most recent call last):\n",
            "Traceback (most recent call last):\n",
            "  File \"/usr/lib/python3.6/multiprocessing/queues.py\", line 240, in _feed\n",
            "    send_bytes(obj)\n",
            "  File \"/usr/lib/python3.6/multiprocessing/queues.py\", line 240, in _feed\n",
            "    send_bytes(obj)\n",
            "  File \"/usr/lib/python3.6/multiprocessing/queues.py\", line 240, in _feed\n",
            "    send_bytes(obj)\n",
            "  File \"/usr/lib/python3.6/multiprocessing/connection.py\", line 200, in send_bytes\n",
            "    self._send_bytes(m[offset:offset + size])\n",
            "  File \"/usr/lib/python3.6/multiprocessing/connection.py\", line 200, in send_bytes\n",
            "    self._send_bytes(m[offset:offset + size])\n",
            "  File \"/usr/lib/python3.6/multiprocessing/connection.py\", line 200, in send_bytes\n",
            "    self._send_bytes(m[offset:offset + size])\n",
            "  File \"/usr/lib/python3.6/multiprocessing/connection.py\", line 404, in _send_bytes\n",
            "    self._send(header + buf)\n",
            "  File \"/usr/lib/python3.6/multiprocessing/connection.py\", line 404, in _send_bytes\n",
            "    self._send(header + buf)\n",
            "  File \"/usr/lib/python3.6/multiprocessing/connection.py\", line 404, in _send_bytes\n",
            "    self._send(header + buf)\n",
            "  File \"/usr/lib/python3.6/multiprocessing/connection.py\", line 368, in _send\n",
            "    n = write(self._handle, buf)\n",
            "  File \"/usr/lib/python3.6/multiprocessing/connection.py\", line 368, in _send\n",
            "    n = write(self._handle, buf)\n",
            "BrokenPipeError: [Errno 32] Broken pipe\n",
            "BrokenPipeError: [Errno 32] Broken pipe\n",
            "Traceback (most recent call last):\n",
            "  File \"/usr/lib/python3.6/multiprocessing/connection.py\", line 368, in _send\n",
            "    n = write(self._handle, buf)\n",
            "Traceback (most recent call last):\n",
            "  File \"/usr/lib/python3.6/multiprocessing/queues.py\", line 240, in _feed\n",
            "    send_bytes(obj)\n",
            "  File \"/usr/lib/python3.6/multiprocessing/queues.py\", line 240, in _feed\n",
            "    send_bytes(obj)\n",
            "  File \"/usr/lib/python3.6/multiprocessing/connection.py\", line 200, in send_bytes\n",
            "    self._send_bytes(m[offset:offset + size])\n",
            "  File \"/usr/lib/python3.6/multiprocessing/connection.py\", line 404, in _send_bytes\n",
            "    self._send(header + buf)\n",
            "  File \"/usr/lib/python3.6/multiprocessing/connection.py\", line 368, in _send\n",
            "    n = write(self._handle, buf)\n",
            "BrokenPipeError: [Errno 32] Broken pipe\n",
            "Traceback (most recent call last):\n",
            "Traceback (most recent call last):\n",
            "  File \"/usr/lib/python3.6/multiprocessing/connection.py\", line 200, in send_bytes\n",
            "    self._send_bytes(m[offset:offset + size])\n",
            "BrokenPipeError: [Errno 32] Broken pipe\n",
            "  File \"/usr/lib/python3.6/multiprocessing/queues.py\", line 240, in _feed\n",
            "    send_bytes(obj)\n",
            "  File \"/usr/lib/python3.6/multiprocessing/queues.py\", line 240, in _feed\n",
            "    send_bytes(obj)\n",
            "  File \"/usr/lib/python3.6/multiprocessing/connection.py\", line 404, in _send_bytes\n",
            "    self._send(header + buf)\n",
            "  File \"/usr/lib/python3.6/multiprocessing/connection.py\", line 200, in send_bytes\n",
            "    self._send_bytes(m[offset:offset + size])\n",
            "  File \"/usr/lib/python3.6/multiprocessing/connection.py\", line 200, in send_bytes\n",
            "    self._send_bytes(m[offset:offset + size])\n",
            "  File \"/usr/lib/python3.6/multiprocessing/connection.py\", line 368, in _send\n",
            "    n = write(self._handle, buf)\n",
            "  File \"/usr/lib/python3.6/multiprocessing/connection.py\", line 404, in _send_bytes\n",
            "    self._send(header + buf)\n",
            "BrokenPipeError: [Errno 32] Broken pipe\n",
            "  File \"/usr/lib/python3.6/multiprocessing/connection.py\", line 368, in _send\n",
            "    n = write(self._handle, buf)\n",
            "BrokenPipeError: [Errno 32] Broken pipe\n",
            "  File \"/usr/lib/python3.6/multiprocessing/queues.py\", line 240, in _feed\n",
            "    send_bytes(obj)\n",
            "  File \"/usr/lib/python3.6/multiprocessing/connection.py\", line 404, in _send_bytes\n",
            "    self._send(header + buf)\n",
            "  File \"/usr/lib/python3.6/multiprocessing/connection.py\", line 200, in send_bytes\n",
            "    self._send_bytes(m[offset:offset + size])\n",
            "  File \"/usr/lib/python3.6/multiprocessing/connection.py\", line 368, in _send\n",
            "    n = write(self._handle, buf)\n",
            "  File \"/usr/lib/python3.6/multiprocessing/connection.py\", line 404, in _send_bytes\n",
            "    self._send(header + buf)\n",
            "BrokenPipeError: [Errno 32] Broken pipe\n",
            "  File \"/usr/lib/python3.6/multiprocessing/connection.py\", line 368, in _send\n",
            "    n = write(self._handle, buf)\n",
            "BrokenPipeError: [Errno 32] Broken pipe\n"
          ],
          "name": "stderr"
        },
        {
          "output_type": "error",
          "ename": "KeyboardInterrupt",
          "evalue": "ignored",
          "traceback": [
            "\u001b[0;31m---------------------------------------------------------------------------\u001b[0m",
            "\u001b[0;31mKeyboardInterrupt\u001b[0m                         Traceback (most recent call last)",
            "\u001b[0;32m<ipython-input-49-f1a01c36079c>\u001b[0m in \u001b[0;36m<module>\u001b[0;34m()\u001b[0m\n\u001b[1;32m     58\u001b[0m fitModel(encoder_net, decoder_net, encoder_optimizer, decoder_optimizer, \n\u001b[1;32m     59\u001b[0m          \u001b[0mBATCH_SIZE\u001b[0m\u001b[0;34m,\u001b[0m \u001b[0mepochs\u001b[0m\u001b[0;34m,\u001b[0m \u001b[0mcurr_ep\u001b[0m\u001b[0;34m,\u001b[0m \u001b[0mlearning_rate\u001b[0m\u001b[0;34m,\u001b[0m \u001b[0mmem_pin\u001b[0m\u001b[0;34m,\u001b[0m \u001b[0mdevice\u001b[0m\u001b[0;34m,\u001b[0m\u001b[0;34m\u001b[0m\u001b[0;34m\u001b[0m\u001b[0m\n\u001b[0;32m---> 60\u001b[0;31m          save_name, load_name, readout, allow_teacher_force, teaching_strategy, clip, want_preds_printed, encoder_scheduler, decoder_scheduler)\n\u001b[0m",
            "\u001b[0;32m<ipython-input-47-84765c9713e2>\u001b[0m in \u001b[0;36mfitModel\u001b[0;34m(encoder_net, decoder_net, encoder_optimizer, decoder_optimizer, BATCH_SIZE, epochs, e, learning_rate, mem_pin, device, save_name, load_name, readout, allow_teacher_force, teaching_strategy, clip, want_preds_printed, encoder_scheduler, decoder_scheduler)\u001b[0m\n\u001b[1;32m     79\u001b[0m                                       teacher_forcing=teacher_force, readout=readout)#, print_preds=want_preds_printed)\n\u001b[1;32m     80\u001b[0m \u001b[0;34m\u001b[0m\u001b[0m\n\u001b[0;32m---> 81\u001b[0;31m             \u001b[0mloss\u001b[0m\u001b[0;34m.\u001b[0m\u001b[0mbackward\u001b[0m\u001b[0;34m(\u001b[0m\u001b[0;34m)\u001b[0m\u001b[0;34m\u001b[0m\u001b[0;34m\u001b[0m\u001b[0m\n\u001b[0m\u001b[1;32m     82\u001b[0m \u001b[0;34m\u001b[0m\u001b[0m\n\u001b[1;32m     83\u001b[0m             \u001b[0;31m# Clip gradients: gradients are modified in place\u001b[0m\u001b[0;34m\u001b[0m\u001b[0;34m\u001b[0m\u001b[0;34m\u001b[0m\u001b[0m\n",
            "\u001b[0;32m/usr/local/lib/python3.6/dist-packages/torch/tensor.py\u001b[0m in \u001b[0;36mbackward\u001b[0;34m(self, gradient, retain_graph, create_graph)\u001b[0m\n\u001b[1;32m    100\u001b[0m                 \u001b[0mproducts\u001b[0m\u001b[0;34m.\u001b[0m \u001b[0mDefaults\u001b[0m \u001b[0mto\u001b[0m\u001b[0;31m \u001b[0m\u001b[0;31m`\u001b[0m\u001b[0;31m`\u001b[0m\u001b[0;32mFalse\u001b[0m\u001b[0;31m`\u001b[0m\u001b[0;31m`\u001b[0m\u001b[0;34m.\u001b[0m\u001b[0;34m\u001b[0m\u001b[0;34m\u001b[0m\u001b[0m\n\u001b[1;32m    101\u001b[0m         \"\"\"\n\u001b[0;32m--> 102\u001b[0;31m         \u001b[0mtorch\u001b[0m\u001b[0;34m.\u001b[0m\u001b[0mautograd\u001b[0m\u001b[0;34m.\u001b[0m\u001b[0mbackward\u001b[0m\u001b[0;34m(\u001b[0m\u001b[0mself\u001b[0m\u001b[0;34m,\u001b[0m \u001b[0mgradient\u001b[0m\u001b[0;34m,\u001b[0m \u001b[0mretain_graph\u001b[0m\u001b[0;34m,\u001b[0m \u001b[0mcreate_graph\u001b[0m\u001b[0;34m)\u001b[0m\u001b[0;34m\u001b[0m\u001b[0;34m\u001b[0m\u001b[0m\n\u001b[0m\u001b[1;32m    103\u001b[0m \u001b[0;34m\u001b[0m\u001b[0m\n\u001b[1;32m    104\u001b[0m     \u001b[0;32mdef\u001b[0m \u001b[0mregister_hook\u001b[0m\u001b[0;34m(\u001b[0m\u001b[0mself\u001b[0m\u001b[0;34m,\u001b[0m \u001b[0mhook\u001b[0m\u001b[0;34m)\u001b[0m\u001b[0;34m:\u001b[0m\u001b[0;34m\u001b[0m\u001b[0;34m\u001b[0m\u001b[0m\n",
            "\u001b[0;32m/usr/local/lib/python3.6/dist-packages/torch/autograd/__init__.py\u001b[0m in \u001b[0;36mbackward\u001b[0;34m(tensors, grad_tensors, retain_graph, create_graph, grad_variables)\u001b[0m\n\u001b[1;32m     88\u001b[0m     Variable._execution_engine.run_backward(\n\u001b[1;32m     89\u001b[0m         \u001b[0mtensors\u001b[0m\u001b[0;34m,\u001b[0m \u001b[0mgrad_tensors\u001b[0m\u001b[0;34m,\u001b[0m \u001b[0mretain_graph\u001b[0m\u001b[0;34m,\u001b[0m \u001b[0mcreate_graph\u001b[0m\u001b[0;34m,\u001b[0m\u001b[0;34m\u001b[0m\u001b[0;34m\u001b[0m\u001b[0m\n\u001b[0;32m---> 90\u001b[0;31m         allow_unreachable=True)  # allow_unreachable flag\n\u001b[0m\u001b[1;32m     91\u001b[0m \u001b[0;34m\u001b[0m\u001b[0m\n\u001b[1;32m     92\u001b[0m \u001b[0;34m\u001b[0m\u001b[0m\n",
            "\u001b[0;31mKeyboardInterrupt\u001b[0m: "
          ]
        }
      ]
    },
    {
      "metadata": {
        "id": "E5YAmcdl7wAn",
        "colab_type": "code",
        "colab": {}
      },
      "cell_type": "code",
      "source": [
        "saveModel(encoder_net, decoder_net,encoder_optimizer, decoder_optimizer, save_name, 1.59, 0.9, 300)"
      ],
      "execution_count": 0,
      "outputs": []
    },
    {
      "metadata": {
        "id": "vlSk7byCOAe4",
        "colab_type": "code",
        "colab": {}
      },
      "cell_type": "code",
      "source": [
        "save_name = 'simple_model_larger_encoder3_' \n",
        "plot_losses_train, plot_losses_eval=pickle.load(open(save_name+'list_of_losses_to_plot.pickle', 'rb'))"
      ],
      "execution_count": 0,
      "outputs": []
    },
    {
      "metadata": {
        "id": "HxpcalqAOH1c",
        "colab_type": "code",
        "outputId": "8e216361-5a5f-4bf8-b9ae-e2de741b2ad4",
        "colab": {
          "base_uri": "https://localhost:8080/",
          "height": 269
        }
      },
      "cell_type": "code",
      "source": [
        "import matplotlib.pyplot as plt\n",
        "import matplotlib.ticker as ticker\n",
        "\n",
        "plt.figure()\n",
        "    \n",
        "plt.plot(plot_losses_train, label='train loss')\n",
        "plt.plot(plot_losses_eval, label='eval loss')\n",
        "plt.show()"
      ],
      "execution_count": 344,
      "outputs": [
        {
          "output_type": "display_data",
          "data": {
            "image/png": "[encoded data removed]",
            "text/plain": [
              "<Figure size 432x288 with 1 Axes>"
            ]
          },
          "metadata": {
            "tags": []
          }
        }
      ]
    },
    {
      "metadata": {
        "id": "PCfj3X7Ge3U5",
        "colab_type": "code",
        "colab": {}
      },
      "cell_type": "code",
      "source": [
        ""
      ],
      "execution_count": 0,
      "outputs": []
    },
    {
      "metadata": {
        "id": "wXoCCpAxAEVm",
        "colab_type": "code",
        "colab": {}
      },
      "cell_type": "code",
      "source": [
        "torch.cuda.empty_cache()"
      ],
      "execution_count": 0,
      "outputs": []
    },
    {
      "metadata": {
        "id": "I0UlvsnmHCjh",
        "colab_type": "code",
        "colab": {}
      },
      "cell_type": "code",
      "source": [
        "gpustat -p"
      ],
      "execution_count": 0,
      "outputs": []
    },
    {
      "metadata": {
        "id": "Vskp_Ko0p86q",
        "colab_type": "text"
      },
      "cell_type": "markdown",
      "source": [
        "# See how predictions are: "
      ]
    },
    {
      "metadata": {
        "id": "ZLDRjNhAqAje",
        "colab_type": "code",
        "outputId": "fcd357d5-2621-4142-9512-db2097301b0e",
        "colab": {
          "base_uri": "https://localhost:8080/",
          "height": 34
        }
      },
      "cell_type": "code",
      "source": [
        "import torch.optim as optim\n",
        "load_name = 'simple_model_larger_encoder3_'\n",
        "\n",
        "ENCODING_LSTM_OUTPUT=500\n",
        "CODE_LAYER_SIZE=200\n",
        "DECODING_LSTM_OUTPUT=500\n",
        "#ENCODING_LSTM_OUTPUT=200\n",
        "#CODE_LAYER_SIZE=200\n",
        "VOCAB_SIZE=21\n",
        "ENCODER_LSTM_NUM_LAYERS=2\n",
        "DECODER_LSTM_NUM_LAYERS=2\n",
        "\n",
        "device = torch.device(\"cuda\" if torch.cuda.is_available() else \"cpu\") \n",
        "\n",
        "mem_pin = False\n",
        "BATCH_SIZE = 32\n",
        "epochs = 80\n",
        "curr_ep = 1 # cant be 0 else later on there is division by zero!\n",
        "learning_rate=0.001\n",
        "clip=15\n",
        "\n",
        "readout=False\n",
        "allow_teacher_force = False\n",
        "teaching_strategy = 'epoch' # can also be 'accuracy'\n",
        "\n",
        "encoder_net = EncoderNet(ENCODING_LSTM_OUTPUT=ENCODING_LSTM_OUTPUT, CODE_LAYER_SIZE=CODE_LAYER_SIZE, \n",
        "                         VOCAB_SIZE=VOCAB_SIZE, ENCODER_LSTM_NUM_LAYERS=ENCODER_LSTM_NUM_LAYERS).to(device)\n",
        "decoder_net = DecoderNet(DECODING_LSTM_OUTPUT=DECODING_LSTM_OUTPUT, CODE_LAYER_SIZE=CODE_LAYER_SIZE, \n",
        "                         VOCAB_SIZE=VOCAB_SIZE, DECODER_LSTM_NUM_LAYERS=DECODER_LSTM_NUM_LAYERS).to(device)\n",
        "encoder_optimizer = optim.RMSprop(encoder_net.parameters(), lr=learning_rate)\n",
        "decoder_optimizer = optim.RMSprop(decoder_net.parameters(), lr=learning_rate)\n",
        "\n",
        "encoder_net, decoder_net,encoder_optimizer, decoder_optimizer, loss, e, best_eval_acc = loadModel(encoder_net, decoder_net,encoder_optimizer, decoder_optimizer, load_name, ignore_optim=True)"
      ],
      "execution_count": 397,
      "outputs": [
        {
          "output_type": "stream",
          "text": [
            "loaded in previous model!\n"
          ],
          "name": "stdout"
        }
      ]
    },
    {
      "metadata": {
        "id": "sZMIQI0MqQ9N",
        "colab_type": "code",
        "colab": {}
      },
      "cell_type": "code",
      "source": [
        "sampler = BucketDataset(primary_train, BATCH_SIZE)\n",
        "dataloader = DataLoader(df_train, batch_size=1, \n",
        "                        batch_sampler=sampler, shuffle=False,\n",
        "                        num_workers=8, collate_fn=one_hotter, \n",
        "                        drop_last=False, pin_memory=mem_pin)\n",
        "\n",
        "# Custom buckets and batch size because the CV dataset is so much smaller. \n",
        "evaluate_sampler = BucketDataset(primary_cv, BATCH_SIZE) # ,100,150,200,300,400\n",
        "evaluate_dataloader = DataLoader(df_cv, batch_size=1, \n",
        "                    batch_sampler=evaluate_sampler, shuffle=False,\n",
        "                    num_workers=8, collate_fn=one_hotter, \n",
        "                    drop_last=False, pin_memory=mem_pin)"
      ],
      "execution_count": 0,
      "outputs": []
    },
    {
      "metadata": {
        "id": "OlfESW5hqTU_",
        "colab_type": "code",
        "outputId": "e8e226bf-59f4-4b6c-e31d-583d203c1979",
        "colab": {
          "base_uri": "https://localhost:8080/",
          "height": 854
        }
      },
      "cell_type": "code",
      "source": [
        "with torch.no_grad():\n",
        "    for cv_batch in dataloader:#evaluate_dataloader: \n",
        "        \n",
        "        seqs = cv_batch[0].to(device)\n",
        "        lengths = cv_batch[1].to(device)\n",
        "        print(encoder_net(seqs, lengths))\n",
        "        break\n",
        "\n",
        "        eval_loss, eval_acc = train_forward(encoder_net, decoder_net, seqs,lengths, device, teacher_forcing=False, readout=readout, print_preds=True)\n",
        "\n",
        "        #preds = train_forward(encoder_net, decoder_net, cv_batch, device, teacher_forcing=False, make_preds=True)\n",
        "        #target = (cv_batch[0]).to(device)\n",
        "        #seq_lengths = cv_batch[1]"
      ],
      "execution_count": 400,
      "outputs": [
        {
          "output_type": "error",
          "ename": "RuntimeError",
          "evalue": "ignored",
          "traceback": [
            "\u001b[0;31m---------------------------------------------------------------------------\u001b[0m",
            "\u001b[0;31mRuntimeError\u001b[0m                              Traceback (most recent call last)",
            "\u001b[0;32m<ipython-input-400-7b9005cd326f>\u001b[0m in \u001b[0;36m<module>\u001b[0;34m()\u001b[0m\n\u001b[1;32m      4\u001b[0m         \u001b[0mseqs\u001b[0m \u001b[0;34m=\u001b[0m \u001b[0mcv_batch\u001b[0m\u001b[0;34m[\u001b[0m\u001b[0;36m0\u001b[0m\u001b[0;34m]\u001b[0m\u001b[0;34m.\u001b[0m\u001b[0mto\u001b[0m\u001b[0;34m(\u001b[0m\u001b[0mdevice\u001b[0m\u001b[0;34m)\u001b[0m\u001b[0;34m\u001b[0m\u001b[0;34m\u001b[0m\u001b[0m\n\u001b[1;32m      5\u001b[0m         \u001b[0mlengths\u001b[0m \u001b[0;34m=\u001b[0m \u001b[0mcv_batch\u001b[0m\u001b[0;34m[\u001b[0m\u001b[0;36m1\u001b[0m\u001b[0;34m]\u001b[0m\u001b[0;34m.\u001b[0m\u001b[0mto\u001b[0m\u001b[0;34m(\u001b[0m\u001b[0mdevice\u001b[0m\u001b[0;34m)\u001b[0m\u001b[0;34m\u001b[0m\u001b[0;34m\u001b[0m\u001b[0m\n\u001b[0;32m----> 6\u001b[0;31m         \u001b[0mprint\u001b[0m\u001b[0;34m(\u001b[0m\u001b[0mencoder_net\u001b[0m\u001b[0;34m(\u001b[0m\u001b[0mseqs\u001b[0m\u001b[0;34m,\u001b[0m \u001b[0mlengths\u001b[0m\u001b[0;34m)\u001b[0m\u001b[0;34m)\u001b[0m\u001b[0;34m\u001b[0m\u001b[0;34m\u001b[0m\u001b[0m\n\u001b[0m\u001b[1;32m      7\u001b[0m         \u001b[0;32mbreak\u001b[0m\u001b[0;34m\u001b[0m\u001b[0;34m\u001b[0m\u001b[0m\n\u001b[1;32m      8\u001b[0m \u001b[0;34m\u001b[0m\u001b[0m\n",
            "\u001b[0;32m/usr/local/lib/python3.6/dist-packages/torch/nn/modules/module.py\u001b[0m in \u001b[0;36m__call__\u001b[0;34m(self, *input, **kwargs)\u001b[0m\n\u001b[1;32m    487\u001b[0m             \u001b[0mresult\u001b[0m \u001b[0;34m=\u001b[0m \u001b[0mself\u001b[0m\u001b[0;34m.\u001b[0m\u001b[0m_slow_forward\u001b[0m\u001b[0;34m(\u001b[0m\u001b[0;34m*\u001b[0m\u001b[0minput\u001b[0m\u001b[0;34m,\u001b[0m \u001b[0;34m**\u001b[0m\u001b[0mkwargs\u001b[0m\u001b[0;34m)\u001b[0m\u001b[0;34m\u001b[0m\u001b[0;34m\u001b[0m\u001b[0m\n\u001b[1;32m    488\u001b[0m         \u001b[0;32melse\u001b[0m\u001b[0;34m:\u001b[0m\u001b[0;34m\u001b[0m\u001b[0;34m\u001b[0m\u001b[0m\n\u001b[0;32m--> 489\u001b[0;31m             \u001b[0mresult\u001b[0m \u001b[0;34m=\u001b[0m \u001b[0mself\u001b[0m\u001b[0;34m.\u001b[0m\u001b[0mforward\u001b[0m\u001b[0;34m(\u001b[0m\u001b[0;34m*\u001b[0m\u001b[0minput\u001b[0m\u001b[0;34m,\u001b[0m \u001b[0;34m**\u001b[0m\u001b[0mkwargs\u001b[0m\u001b[0;34m)\u001b[0m\u001b[0;34m\u001b[0m\u001b[0;34m\u001b[0m\u001b[0m\n\u001b[0m\u001b[1;32m    490\u001b[0m         \u001b[0;32mfor\u001b[0m \u001b[0mhook\u001b[0m \u001b[0;32min\u001b[0m \u001b[0mself\u001b[0m\u001b[0;34m.\u001b[0m\u001b[0m_forward_hooks\u001b[0m\u001b[0;34m.\u001b[0m\u001b[0mvalues\u001b[0m\u001b[0;34m(\u001b[0m\u001b[0;34m)\u001b[0m\u001b[0;34m:\u001b[0m\u001b[0;34m\u001b[0m\u001b[0;34m\u001b[0m\u001b[0m\n\u001b[1;32m    491\u001b[0m             \u001b[0mhook_result\u001b[0m \u001b[0;34m=\u001b[0m \u001b[0mhook\u001b[0m\u001b[0;34m(\u001b[0m\u001b[0mself\u001b[0m\u001b[0;34m,\u001b[0m \u001b[0minput\u001b[0m\u001b[0;34m,\u001b[0m \u001b[0mresult\u001b[0m\u001b[0;34m)\u001b[0m\u001b[0;34m\u001b[0m\u001b[0;34m\u001b[0m\u001b[0m\n",
            "\u001b[0;32m<ipython-input-372-328f3951f73f>\u001b[0m in \u001b[0;36mforward\u001b[0;34m(self, input, seq_len)\u001b[0m\n\u001b[1;32m     22\u001b[0m         \u001b[0;31m# Pack padded batch of sequences for RNN module\u001b[0m\u001b[0;34m\u001b[0m\u001b[0;34m\u001b[0m\u001b[0;34m\u001b[0m\u001b[0m\n\u001b[1;32m     23\u001b[0m         \u001b[0;31m#res = torch.nn.utils.rnn.pack_padded_sequence(input, seq_len, batch_first=True).cuda()\u001b[0m\u001b[0;34m\u001b[0m\u001b[0;34m\u001b[0m\u001b[0;34m\u001b[0m\u001b[0m\n\u001b[0;32m---> 24\u001b[0;31m         \u001b[0mres\u001b[0m\u001b[0;34m,\u001b[0m \u001b[0;34m(\u001b[0m\u001b[0mhidden_h\u001b[0m\u001b[0;34m,\u001b[0m \u001b[0mhidden_c\u001b[0m\u001b[0;34m)\u001b[0m \u001b[0;34m=\u001b[0m \u001b[0mself\u001b[0m\u001b[0;34m.\u001b[0m\u001b[0mencoder\u001b[0m\u001b[0;34m(\u001b[0m\u001b[0minput\u001b[0m\u001b[0;34m)\u001b[0m\u001b[0;34m\u001b[0m\u001b[0;34m\u001b[0m\u001b[0m\n\u001b[0m\u001b[1;32m     25\u001b[0m         \u001b[0;31m#res = torch.nn.utils.rnn.pad_packed_sequence(res, batch_first=True).cuda() # only use if I want the output w/ all timesteps for the LSTM\u001b[0m\u001b[0;34m\u001b[0m\u001b[0;34m\u001b[0m\u001b[0;34m\u001b[0m\u001b[0m\n\u001b[1;32m     26\u001b[0m         \u001b[0;31m# combine the bidirectional outputs, concatenate states from separate layers.\u001b[0m\u001b[0;34m\u001b[0m\u001b[0;34m\u001b[0m\u001b[0;34m\u001b[0m\u001b[0m\n",
            "\u001b[0;32m/usr/local/lib/python3.6/dist-packages/torch/nn/modules/module.py\u001b[0m in \u001b[0;36m__call__\u001b[0;34m(self, *input, **kwargs)\u001b[0m\n\u001b[1;32m    487\u001b[0m             \u001b[0mresult\u001b[0m \u001b[0;34m=\u001b[0m \u001b[0mself\u001b[0m\u001b[0;34m.\u001b[0m\u001b[0m_slow_forward\u001b[0m\u001b[0;34m(\u001b[0m\u001b[0;34m*\u001b[0m\u001b[0minput\u001b[0m\u001b[0;34m,\u001b[0m \u001b[0;34m**\u001b[0m\u001b[0mkwargs\u001b[0m\u001b[0;34m)\u001b[0m\u001b[0;34m\u001b[0m\u001b[0;34m\u001b[0m\u001b[0m\n\u001b[1;32m    488\u001b[0m         \u001b[0;32melse\u001b[0m\u001b[0;34m:\u001b[0m\u001b[0;34m\u001b[0m\u001b[0;34m\u001b[0m\u001b[0m\n\u001b[0;32m--> 489\u001b[0;31m             \u001b[0mresult\u001b[0m \u001b[0;34m=\u001b[0m \u001b[0mself\u001b[0m\u001b[0;34m.\u001b[0m\u001b[0mforward\u001b[0m\u001b[0;34m(\u001b[0m\u001b[0;34m*\u001b[0m\u001b[0minput\u001b[0m\u001b[0;34m,\u001b[0m \u001b[0;34m**\u001b[0m\u001b[0mkwargs\u001b[0m\u001b[0;34m)\u001b[0m\u001b[0;34m\u001b[0m\u001b[0;34m\u001b[0m\u001b[0m\n\u001b[0m\u001b[1;32m    490\u001b[0m         \u001b[0;32mfor\u001b[0m \u001b[0mhook\u001b[0m \u001b[0;32min\u001b[0m \u001b[0mself\u001b[0m\u001b[0;34m.\u001b[0m\u001b[0m_forward_hooks\u001b[0m\u001b[0;34m.\u001b[0m\u001b[0mvalues\u001b[0m\u001b[0;34m(\u001b[0m\u001b[0;34m)\u001b[0m\u001b[0;34m:\u001b[0m\u001b[0;34m\u001b[0m\u001b[0;34m\u001b[0m\u001b[0m\n\u001b[1;32m    491\u001b[0m             \u001b[0mhook_result\u001b[0m \u001b[0;34m=\u001b[0m \u001b[0mhook\u001b[0m\u001b[0;34m(\u001b[0m\u001b[0mself\u001b[0m\u001b[0;34m,\u001b[0m \u001b[0minput\u001b[0m\u001b[0;34m,\u001b[0m \u001b[0mresult\u001b[0m\u001b[0;34m)\u001b[0m\u001b[0;34m\u001b[0m\u001b[0;34m\u001b[0m\u001b[0m\n",
            "\u001b[0;32m/usr/local/lib/python3.6/dist-packages/torch/nn/modules/rnn.py\u001b[0m in \u001b[0;36mforward\u001b[0;34m(self, input, hx)\u001b[0m\n\u001b[1;32m    173\u001b[0m                 \u001b[0mhx\u001b[0m \u001b[0;34m=\u001b[0m \u001b[0;34m(\u001b[0m\u001b[0mhx\u001b[0m\u001b[0;34m,\u001b[0m \u001b[0mhx\u001b[0m\u001b[0;34m)\u001b[0m\u001b[0;34m\u001b[0m\u001b[0;34m\u001b[0m\u001b[0m\n\u001b[1;32m    174\u001b[0m \u001b[0;34m\u001b[0m\u001b[0m\n\u001b[0;32m--> 175\u001b[0;31m         \u001b[0mself\u001b[0m\u001b[0;34m.\u001b[0m\u001b[0mcheck_forward_args\u001b[0m\u001b[0;34m(\u001b[0m\u001b[0minput\u001b[0m\u001b[0;34m,\u001b[0m \u001b[0mhx\u001b[0m\u001b[0;34m,\u001b[0m \u001b[0mbatch_sizes\u001b[0m\u001b[0;34m)\u001b[0m\u001b[0;34m\u001b[0m\u001b[0;34m\u001b[0m\u001b[0m\n\u001b[0m\u001b[1;32m    176\u001b[0m         \u001b[0m_impl\u001b[0m \u001b[0;34m=\u001b[0m \u001b[0m_rnn_impls\u001b[0m\u001b[0;34m[\u001b[0m\u001b[0mself\u001b[0m\u001b[0;34m.\u001b[0m\u001b[0mmode\u001b[0m\u001b[0;34m]\u001b[0m\u001b[0;34m\u001b[0m\u001b[0;34m\u001b[0m\u001b[0m\n\u001b[1;32m    177\u001b[0m         \u001b[0;32mif\u001b[0m \u001b[0mbatch_sizes\u001b[0m \u001b[0;32mis\u001b[0m \u001b[0;32mNone\u001b[0m\u001b[0;34m:\u001b[0m\u001b[0;34m\u001b[0m\u001b[0;34m\u001b[0m\u001b[0m\n",
            "\u001b[0;32m/usr/local/lib/python3.6/dist-packages/torch/nn/modules/rnn.py\u001b[0m in \u001b[0;36mcheck_forward_args\u001b[0;34m(self, input, hidden, batch_sizes)\u001b[0m\n\u001b[1;32m    133\u001b[0m             raise RuntimeError(\n\u001b[1;32m    134\u001b[0m                 'input.size(-1) must be equal to input_size. Expected {}, got {}'.format(\n\u001b[0;32m--> 135\u001b[0;31m                     self.input_size, input.size(-1)))\n\u001b[0m\u001b[1;32m    136\u001b[0m \u001b[0;34m\u001b[0m\u001b[0m\n\u001b[1;32m    137\u001b[0m         \u001b[0;32mif\u001b[0m \u001b[0mis_input_packed\u001b[0m\u001b[0;34m:\u001b[0m\u001b[0;34m\u001b[0m\u001b[0;34m\u001b[0m\u001b[0m\n",
            "\u001b[0;31mRuntimeError\u001b[0m: input.size(-1) must be equal to input_size. Expected 21, got 20"
          ]
        }
      ]
    },
    {
      "metadata": {
        "id": "JzzJKqthigxg",
        "colab_type": "code",
        "outputId": "1dc54ed1-0cec-4279-b2ba-403a67ac5066",
        "colab": {
          "base_uri": "https://localhost:8080/",
          "height": 193
        }
      },
      "cell_type": "code",
      "source": [
        "with torch.no_grad():\n",
        "    for cv_batch in evaluate_dataloader: \n",
        "        print(encoder_net(cv_batch[0],cv_batch[1]))\n",
        "        break"
      ],
      "execution_count": 0,
      "outputs": [
        {
          "output_type": "stream",
          "text": [
            "tensor([[-0.0023,  0.2183,  0.2718,  ..., -0.2392, -0.1695,  0.3490],\n",
            "        [ 0.3124, -0.2415, -0.0100,  ..., -0.0135,  0.2223,  0.2753],\n",
            "        [-0.0847, -0.3245,  0.2076,  ..., -0.1262,  0.4366, -0.0182],\n",
            "        ...,\n",
            "        [ 0.2962, -0.2558, -0.5093,  ..., -0.0022,  0.4100, -0.2511],\n",
            "        [ 0.0118, -0.0047,  0.0222,  ...,  0.0563,  0.0715, -0.0719],\n",
            "        [ 0.2619, -0.0094, -0.0852,  ...,  0.0934,  0.2698, -0.2786]],\n",
            "       device='cuda:0')\n"
          ],
          "name": "stdout"
        },
        {
          "output_type": "stream",
          "text": [
            "/usr/local/lib/python3.6/dist-packages/torch/nn/functional.py:1320: UserWarning: nn.functional.tanh is deprecated. Use torch.tanh instead.\n",
            "  warnings.warn(\"nn.functional.tanh is deprecated. Use torch.tanh instead.\")\n"
          ],
          "name": "stderr"
        }
      ]
    },
    {
      "metadata": {
        "id": "t9Umi9LLqFzQ",
        "colab_type": "code",
        "outputId": "f62259fa-fdb5-4edc-dab4-c9767fedfe5e",
        "colab": {
          "base_uri": "https://localhost:8080/",
          "height": 492
        }
      },
      "cell_type": "code",
      "source": [
        "ind=1\n",
        "lens = seq_lengths[ind].item()\n",
        "pred = torch.max(preds[ind,:,:], dim=1)[1][:lens]\n",
        "pred"
      ],
      "execution_count": 0,
      "outputs": [
        {
          "output_type": "execute_result",
          "data": {
            "text/plain": [
              "tensor([17, 14, 14, 19, 19, 19, 14, 14, 14, 19, 19, 19, 14, 14, 14, 19, 19, 19,\n",
              "        14, 14, 14, 19, 19, 19, 14, 14, 19, 19, 14, 19, 14, 14, 19, 19, 14, 19,\n",
              "        19, 14, 14, 19, 19, 14, 14, 19, 19, 19, 14, 14, 19, 14, 14, 19, 19, 19,\n",
              "        19, 14, 14, 14, 14, 19, 19, 19, 19, 14, 14, 19, 14, 19, 19, 19, 14, 14,\n",
              "        14, 19, 19, 19, 14, 19, 14, 14, 19, 19, 14, 19, 14, 19, 14, 19, 19, 19,\n",
              "        14, 14, 14, 19, 19, 19, 14, 14, 14, 19, 19, 19, 14, 14, 19, 19, 14, 19,\n",
              "        14, 19, 14, 19, 19, 14, 14, 19, 19, 19, 14, 14, 19, 19, 14, 14, 19, 19,\n",
              "        14, 19, 14, 19, 14, 19, 19, 19, 14, 14, 14, 19, 19, 19, 19, 14, 14, 14,\n",
              "        19, 19, 14, 19, 14, 19, 14, 19, 19, 19, 14, 14, 19, 19, 14, 14, 19, 19,\n",
              "        14, 19, 14, 19, 14, 19, 19, 19, 14, 14, 14, 19, 14, 19, 19, 19, 14, 14,\n",
              "        19, 19, 14, 14, 19, 19, 14, 19, 19, 14, 14, 19, 19, 14, 14, 19, 19, 14,\n",
              "        14, 19, 19, 19, 14, 14, 14, 19, 19, 19, 14, 19, 14, 14, 19, 19, 14, 14,\n",
              "        19, 19, 14, 19, 19, 19, 14, 14, 14, 19, 19, 19, 14, 14, 19, 19, 14, 19,\n",
              "        14, 19, 14, 19, 19, 14, 14, 19, 19, 19, 14, 14, 14, 19, 19, 19, 14, 14,\n",
              "        19, 19, 14, 19, 14, 19, 14, 19, 19, 14, 14, 19, 19, 19, 14, 14, 19, 19,\n",
              "        14, 14, 19, 19, 14, 19, 19, 14, 14, 14, 19, 19, 19, 19, 14, 14, 14, 19,\n",
              "        19, 19, 14, 14, 14, 19, 19, 19, 14, 19, 14, 14, 19, 19, 14, 19, 14, 19,\n",
              "        19, 14, 14, 19, 19, 19, 14, 14, 14, 19, 19, 19, 14, 14, 19, 19, 14, 14,\n",
              "        19, 19, 14, 19, 19, 19, 14, 14, 14, 19, 14, 19, 19, 19, 14, 14, 19, 19,\n",
              "        14, 14, 19, 19, 14, 14, 19, 19, 19, 14, 14, 19, 14, 19, 19, 14, 14, 19,\n",
              "        19, 19, 14, 14, 14, 19, 19, 19, 19, 14, 14, 14, 19, 14, 19, 19, 14, 19,\n",
              "        19, 14, 14, 19, 19, 19, 14, 14, 19, 14, 19, 19, 14, 19, 14, 19, 14, 19,\n",
              "        14, 19, 19, 19, 14, 14, 14, 19, 19, 19, 14, 14, 14, 19, 19, 19, 14, 19,\n",
              "        14, 19, 14, 19, 14, 19, 14, 19, 19, 19, 14, 14, 14, 19, 19, 19, 14, 14,\n",
              "        14, 19, 19, 19, 14, 14, 19, 19, 14, 14, 19, 19, 19, 14, 14, 19, 14, 19,\n",
              "        14, 19, 19, 19, 14, 14, 14, 19, 19, 19, 14, 19, 14, 14, 19, 19, 14, 19],\n",
              "       device='cuda:0')"
            ]
          },
          "metadata": {
            "tags": []
          },
          "execution_count": 106
        }
      ]
    },
    {
      "metadata": {
        "id": "YTJgDPAzj6g6",
        "colab_type": "code",
        "outputId": "18154e2e-e85d-468e-fbf6-5de3e3900647",
        "colab": {
          "base_uri": "https://localhost:8080/",
          "height": 34
        }
      },
      "cell_type": "code",
      "source": [
        "pred.shape"
      ],
      "execution_count": 0,
      "outputs": [
        {
          "output_type": "execute_result",
          "data": {
            "text/plain": [
              "torch.Size([468])"
            ]
          },
          "metadata": {
            "tags": []
          },
          "execution_count": 107
        }
      ]
    },
    {
      "metadata": {
        "id": "R2dmcJ2cqH8_",
        "colab_type": "code",
        "outputId": "a214477f-e1d5-42d4-a016-a825af9848e3",
        "colab": {
          "base_uri": "https://localhost:8080/",
          "height": 34
        }
      },
      "cell_type": "code",
      "source": [
        "cv_batch[0].shape"
      ],
      "execution_count": 0,
      "outputs": [
        {
          "output_type": "execute_result",
          "data": {
            "text/plain": [
              "torch.Size([32, 595, 21])"
            ]
          },
          "metadata": {
            "tags": []
          },
          "execution_count": 108
        }
      ]
    },
    {
      "metadata": {
        "id": "g5Q5Y7C9qAe8",
        "colab_type": "code",
        "outputId": "0e3b43d5-c6f8-4647-d1d6-11c746e50c5d",
        "colab": {
          "base_uri": "https://localhost:8080/",
          "height": 474
        }
      },
      "cell_type": "code",
      "source": [
        "true = torch.max(cv_batch[0][ind,:,:], dim=1)[1][:lens]\n",
        "true"
      ],
      "execution_count": 0,
      "outputs": [
        {
          "output_type": "execute_result",
          "data": {
            "text/plain": [
              "tensor([11,  6, 16, 16,  7,  7,  7,  7,  7,  7, 11, 16, 16, 10,  9,  5, 18, 18,\n",
              "        16, 16, 10,  3,  8,  8,  1,  1, 14,  1,  6, 15, 12,  9, 14, 10,  1,  4,\n",
              "        10,  1,  4,  9,  1, 10,  1,  1,  8,  9,  4, 12,  3, 14, 14, 10, 13,  3,\n",
              "        13,  4, 18, 18,  5,  1, 13, 10, 14, 10,  1, 17,  9, 16,  6, 17,  8, 13,\n",
              "        10, 17, 17, 17,  1, 10,  3,  2,  8,  6,  9, 10,  8, 16, 20, 16, 20,  5,\n",
              "        16,  1, 13, 16, 16, 16,  1, 17, 14,  3,  6, 17,  4, 14, 17, 13, 10,  8,\n",
              "         4, 15,  1,  8,  3, 17,  8,  2,  3,  2,  5, 14,  6,  4, 17, 17, 10, 18,\n",
              "         4,  8, 14, 10, 14,  8, 18,  9, 16, 10, 10,  1,  1, 18, 10, 12,  3,  9,\n",
              "         8,  8, 18,  7,  6,  1,  6, 10, 10,  9,  1, 18, 15, 14, 18, 20, 12,  8,\n",
              "         5, 10, 10, 16, 15, 16, 17,  1, 12, 14, 14, 18,  1, 14,  6, 17, 10, 17,\n",
              "        14, 11, 18,  6, 17, 18,  5,  4, 15, 18,  9, 17, 15, 10,  7, 11,  9,  4,\n",
              "         1, 15,  1, 12, 10,  6, 15, 10,  9,  1, 16, 15, 16, 16, 10,  1, 18,  3,\n",
              "        15, 16,  3,  3, 14,  3, 16, 14,  1,  6,  9, 18,  3,  6,  4,  3,  1, 17,\n",
              "        18,  4, 17, 18, 16,  3,  1, 17, 13, 16,  4, 16, 18,  3,  9,  1,  6,  6,\n",
              "         6,  9, 10, 17, 10,  9,  3, 10,  4,  7, 15,  9, 16,  5,  3,  3, 16,  7,\n",
              "        11,  6,  3,  6, 13, 17, 11, 18, 16, 14, 18,  9, 13, 11,  9,  9,  1, 16,\n",
              "        15, 16, 18, 16,  4, 14, 16, 10, 14,  4, 16, 13, 14,  3,  4, 17, 13,  4,\n",
              "        16, 10,  3,  1,  4,  3,  4,  1, 20,  8, 15,  3,  1, 20, 10, 18,  5, 15,\n",
              "        16,  5,  2, 12, 10, 16, 17,  9,  8, 10, 13, 13,  3, 14, 10, 20,  3, 10,\n",
              "        15,  6, 14, 13, 11, 15, 16,  9, 10,  8, 16, 10,  7, 10,  8,  7, 17, 10,\n",
              "        10, 12, 12,  7,  8, 17, 18,  5, 17, 16, 13, 10,  2, 17,  8, 15, 12, 17,\n",
              "         9, 12, 12,  4, 13, 17, 12,  5, 10, 14,  1,  8,  9, 20, 20, 10,  2, 10,\n",
              "        16,  8, 17, 15, 12,  6,  1, 16, 16, 18,  3, 15, 18,  5,  3,  8,  2,  2,\n",
              "         4,  8,  5, 19, 10, 11, 10,  9, 20, 11, 15, 16, 16,  5,  9, 12,  4,  8,\n",
              "         4, 18,  5, 10, 12,  4,  8, 20, 10,  1, 10, 10,  1, 15, 15, 12,  1, 13,\n",
              "        10, 16, 14,  9, 10, 17,  5, 18,  6,  8, 10,  9, 15, 10,  2,  4,  3, 13])"
            ]
          },
          "metadata": {
            "tags": []
          },
          "execution_count": 109
        }
      ]
    },
    {
      "metadata": {
        "id": "hrC0f3LFBEGv",
        "colab_type": "text"
      },
      "cell_type": "markdown",
      "source": [
        "# Keras Same Architecture Encoder:"
      ]
    },
    {
      "metadata": {
        "colab_type": "code",
        "id": "w4da4sYsBIiF",
        "outputId": "365645eb-8761-47b8-e0b7-87e361d4a684",
        "colab": {
          "base_uri": "https://localhost:8080/",
          "height": 70
        }
      },
      "cell_type": "code",
      "source": [
        "import torch.nn as nn\n",
        "import torch.nn.functional as F\n",
        "import numpy as np\n",
        "\n",
        "class EncoderNet(nn.Module):\n",
        "\n",
        "    def __init__(self, BATCH_SIZE = 64, ENCODING_LSTM_OUTPUT=200, CODE_LAYER_SIZE=300, VOCAB_SIZE=21):\n",
        "        super(EncoderNet, self).__init__()\n",
        "        #encoding\n",
        "        self.encoder = nn.LSTM(input_size=VOCAB_SIZE, hidden_size= ENCODING_LSTM_OUTPUT,num_layers=1,bidirectional=True, batch_first=True)\n",
        "\n",
        "    def forward(self, input, seq_len):\n",
        "      \n",
        "        # not clear to me if I want to have the latent space be repeated and given to every timestep of the LSTM?\n",
        "        # Pack padded batch of sequences for RNN module\n",
        "        res = torch.nn.utils.rnn.pack_padded_sequence(input, seq_len, batch_first=True).cuda()\n",
        "        res, (hidden_h, hidden_c) = self.encoder(res)\n",
        "        \n",
        "        return torch.cat( (hidden_h[0,:,:],hidden_h[1,:,:]), dim=1)\n",
        "\n",
        "encoder_net = EncoderNet()\n",
        "print(encoder_net)"
      ],
      "execution_count": 0,
      "outputs": [
        {
          "output_type": "stream",
          "text": [
            "EncoderNet(\n",
            "  (encoder): LSTM(21, 200, batch_first=True, bidirectional=True)\n",
            ")\n"
          ],
          "name": "stdout"
        }
      ]
    },
    {
      "metadata": {
        "colab_type": "code",
        "id": "voSLIQMjBU0-",
        "outputId": "1b091343-17b3-42c3-83ba-33677b303592",
        "colab": {
          "base_uri": "https://localhost:8080/",
          "height": 105
        }
      },
      "cell_type": "code",
      "source": [
        "class DecoderNet(nn.Module):\n",
        "\n",
        "    def __init__(self,CODE_LAYER_SIZE=300, VOCAB_SIZE=21, FIRST_LSTM_NUM_LAYERS=1, hidden_size=200):\n",
        "        super(DecoderNet, self).__init__()\n",
        "        #decode\n",
        "        #self.dense1_predecode = nn.Linear(in_features=(CODE_LAYER_SIZE), out_features=50 )\n",
        "        self.decoder = nn.LSTM(input_size=(CODE_LAYER_SIZE*2),bidirectional=True, hidden_size=hidden_size,num_layers=1, batch_first=True)\n",
        "        self.dense1_dec = nn.Linear(in_features=400, out_features=100)\n",
        "        self.dense2_dec = nn.Linear(in_features=100, out_features=VOCAB_SIZE )\n",
        "        self.FIRST_LSTM_NUM_LAYERS=FIRST_LSTM_NUM_LAYERS\n",
        "        self.CODE_LAYER_SIZE=CODE_LAYER_SIZE\n",
        "        self.VOCAB_SIZE=VOCAB_SIZE\n",
        "        self.hidden_size=hidden_size\n",
        "\n",
        "    def forward(self, latent_space, hidden, seq_len):\n",
        "        #decoding. takes in a single latent code from a single part of the batch. \n",
        "        # where input is the teacher forcing or the predictions from the previous step.\n",
        "        \n",
        "        #prev_out = torch.nn.utils.rnn.pack_padded_sequence(latent_space, seq_len, batch_first=True).cuda()\n",
        "        prev_out, hidden = self.decoder( latent_space, hidden) \n",
        "        #prev_out, _ = torch.nn.utils.rnn.pad_packed_sequence(prev_out)\n",
        "        prev_out = F.elu(self.dense1_dec(prev_out))\n",
        "        prev_out = F.log_softmax(self.dense2_dec(prev_out), dim=2)\n",
        "        return prev_out\n",
        "    \n",
        "    def initHidden(self, batch_size):\n",
        "        return (torch.zeros([self.FIRST_LSTM_NUM_LAYERS,batch_size,int(self.hidden_size)], device=device),\n",
        "                torch.zeros([self.FIRST_LSTM_NUM_LAYERS,batch_size,int(self.hidden_size)], device=device))\n",
        "\n",
        "    def initHidden_Out(self, batch_size):\n",
        "        return (torch.zeros([1,batch_size,self.VOCAB_SIZE], device=device),\n",
        "                torch.zeros([1,batch_size,self.VOCAB_SIZE], device=device))\n",
        "\n",
        "decoder_net = DecoderNet()\n",
        "print(decoder_net)"
      ],
      "execution_count": 0,
      "outputs": [
        {
          "output_type": "stream",
          "text": [
            "DecoderNet(\n",
            "  (decoder): LSTM(600, 200, batch_first=True, bidirectional=True)\n",
            "  (dense1_dec): Linear(in_features=400, out_features=100, bias=True)\n",
            "  (dense2_dec): Linear(in_features=100, out_features=21, bias=True)\n",
            ")\n"
          ],
          "name": "stdout"
        }
      ]
    },
    {
      "metadata": {
        "id": "CKRNKTFbqBSL",
        "colab_type": "text"
      },
      "cell_type": "markdown",
      "source": [
        "# Other Random functions"
      ]
    },
    {
      "metadata": {
        "id": "9UcLAsSzHQNE",
        "colab_type": "code",
        "colab": {}
      },
      "cell_type": "code",
      "source": [
        "def pretty_size(size):\n",
        "\t\"\"\"Pretty prints a torch.Size object\"\"\"\n",
        "\tassert(isinstance(size, torch.Size))\n",
        "\treturn \" × \".join(map(str, size))\n",
        "\n",
        "def dump_tensors(gpu_only=True):\n",
        "\t\"\"\"Prints a list of the Tensors being tracked by the garbage collector.\"\"\"\n",
        "\timport gc\n",
        "\ttotal_size = 0\n",
        "\tfor obj in gc.get_objects():\n",
        "\t\ttry:\n",
        "\t\t\tif torch.is_tensor(obj):\n",
        "\t\t\t\tif not gpu_only or obj.is_cuda:\n",
        "\t\t\t\t\tprint(\"%s:%s%s %s\" % (type(obj).__name__, \n",
        "\t\t\t\t\t\t\t\t\t\t  \" GPU\" if obj.is_cuda else \"\",\n",
        "\t\t\t\t\t\t\t\t\t\t  \" pinned\" if obj.is_pinned else \"\",\n",
        "\t\t\t\t\t\t\t\t\t\t  pretty_size(obj.size())))\n",
        "\t\t\t\t\ttotal_size += obj.numel()\n",
        "\t\t\telif hasattr(obj, \"data\") and torch.is_tensor(obj.data):\n",
        "\t\t\t\tif not gpu_only or obj.is_cuda:\n",
        "\t\t\t\t\tprint(\"%s → %s:%s%s%s%s %s\" % (type(obj).__name__, \n",
        "\t\t\t\t\t\t\t\t\t\t\t\t   type(obj.data).__name__, \n",
        "\t\t\t\t\t\t\t\t\t\t\t\t   \" GPU\" if obj.is_cuda else \"\",\n",
        "\t\t\t\t\t\t\t\t\t\t\t\t   \" pinned\" if obj.data.is_pinned else \"\",\n",
        "\t\t\t\t\t\t\t\t\t\t\t\t   \" grad\" if obj.requires_grad else \"\", \n",
        "\t\t\t\t\t\t\t\t\t\t\t\t   \" volatile\" if obj.volatile else \"\",\n",
        "\t\t\t\t\t\t\t\t\t\t\t\t   pretty_size(obj.data.size())))\n",
        "\t\t\t\t\ttotal_size += obj.data.numel()\n",
        "\t\texcept Exception as e:\n",
        "\t\t\tpass        \n",
        "\tprint(\"Total size:\", total_size)\n",
        "    \n",
        "dump_tensors(gpu_only=False)"
      ],
      "execution_count": 0,
      "outputs": []
    },
    {
      "metadata": {
        "id": "2rPQEOqkp3vN",
        "colab_type": "code",
        "colab": {}
      },
      "cell_type": "code",
      "source": [
        "!nvidia-smi"
      ],
      "execution_count": 0,
      "outputs": []
    },
    {
      "metadata": {
        "id": "o3uudPpYtXA_",
        "colab_type": "text"
      },
      "cell_type": "markdown",
      "source": [
        "Useful code to take: "
      ]
    },
    {
      "metadata": {
        "id": "lr-4-Nh5bMuy",
        "colab_type": "code",
        "colab": {}
      },
      "cell_type": "code",
      "source": [
        "# interesting! \n",
        "\n",
        "def evaluateRandomly(encoder, decoder, n=10):\n",
        "    for i in range(n):\n",
        "        pair = random.choice(pairs)\n",
        "        print('>', pair[0])\n",
        "        print('=', pair[1])\n",
        "        output_words, attentions = evaluate(encoder, decoder, pair[0])\n",
        "        output_sentence = ' '.join(output_words)\n",
        "        print('<', output_sentence)\n",
        "        print('')"
      ],
      "execution_count": 0,
      "outputs": []
    },
    {
      "metadata": {
        "id": "h0IAO3dPbW_0",
        "colab_type": "code",
        "colab": {}
      },
      "cell_type": "code",
      "source": [
        "evaluateRandomly(encoder1, attn_decoder1)"
      ],
      "execution_count": 0,
      "outputs": []
    },
    {
      "metadata": {
        "id": "omL-ksZOfAI5",
        "colab_type": "code",
        "colab": {}
      },
      "cell_type": "code",
      "source": [
        "import matplotlib.pyplot as plt\n",
        "plt.switch_backend('agg')\n",
        "import matplotlib.ticker as ticker\n",
        "import numpy as np\n",
        "\n",
        "def showPlot(points):\n",
        "    plt.figure()\n",
        "    fig, ax = plt.subplots()\n",
        "    # this locator puts ticks at regular intervals\n",
        "    loc = ticker.MultipleLocator(base=0.2)\n",
        "    ax.yaxis.set_major_locator(loc)\n",
        "    plt.plot(points)"
      ],
      "execution_count": 0,
      "outputs": []
    },
    {
      "metadata": {
        "id": "n38EHkYUjvat",
        "colab_type": "text"
      },
      "cell_type": "markdown",
      "source": [
        "# Data Amino Acids to integers\n",
        "\n",
        "I have saved the vocabulary index also! \n",
        "\n",
        "## Beware that I have added one to everything!!!!!! When working with the data. As the padding value is 0. (previously... I am not using padding any more though!!)"
      ]
    },
    {
      "metadata": {
        "id": "W6JsjAcG_deK",
        "colab_type": "code",
        "colab": {}
      },
      "cell_type": "code",
      "source": [
        "import pickle\n",
        "primary_train = pickle.load(open('training_primary.pickle', 'rb'))\n",
        "primary_test = pickle.load(open('testing_primary.pickle', 'rb'))\n",
        "primary_cv = pickle.load(open('validation_primary.pickle', 'rb'))\n",
        "#pickle.dump(primary, open('training_primary.pickle', 'wb'))"
      ],
      "execution_count": 0,
      "outputs": []
    },
    {
      "metadata": {
        "id": "3OCIWA5ECxgL",
        "colab_type": "code",
        "colab": {}
      },
      "cell_type": "code",
      "source": [
        "vocab = set()\n",
        "for seq in primary_train:\n",
        "  #temp = set((list(seq)))\n",
        "  vocab.update( set((list(seq))) )\n",
        "print(len(list(vocab)))\n",
        "# => ['<pad>', '_', 'd', 'e', 'g', 'i', 'l', 'm', 'n', 'o', 'r', 's', 't', 'u', 'y']\n",
        "vocab = sorted(vocab)"
      ],
      "execution_count": 0,
      "outputs": []
    },
    {
      "metadata": {
        "id": "KDYSm8byARQ4",
        "colab_type": "code",
        "colab": {}
      },
      "cell_type": "code",
      "source": [
        "#vocab = sorted(set([  c for c in seqs for seqs in primary_train])) #sorted(set([char for seq in primary for char in primary_train]))\n",
        "def chars_to_ints(sequences, vocab):\n",
        "  return np.asarray( [np.asarray(s) for s in [[vocab.index(tok) for tok in seq] for seq in sequences]])"
      ],
      "execution_count": 0,
      "outputs": []
    },
    {
      "metadata": {
        "id": "c5CTaSDPDfRT",
        "colab_type": "code",
        "colab": {}
      },
      "cell_type": "code",
      "source": [
        "primary_train = chars_to_ints(primary_train, vocab)\n",
        "primary_cv  = chars_to_ints(primary_cv, vocab)\n",
        "primary_test  = chars_to_ints(primary_test, vocab)"
      ],
      "execution_count": 0,
      "outputs": []
    },
    {
      "metadata": {
        "id": "23JgLWytCSrc",
        "colab_type": "code",
        "colab": {}
      },
      "cell_type": "code",
      "source": [
        "primary_test.shape "
      ],
      "execution_count": 0,
      "outputs": []
    },
    {
      "metadata": {
        "id": "WI2PfWwCEUmF",
        "colab_type": "code",
        "colab": {}
      },
      "cell_type": "code",
      "source": [
        "#pickle.dump(vocab, open('sorted_vocab_encoding.pickle', 'wb'))"
      ],
      "execution_count": 0,
      "outputs": []
    },
    {
      "metadata": {
        "id": "2HLs3a0OEDKa",
        "colab_type": "code",
        "colab": {}
      },
      "cell_type": "code",
      "source": [
        "'''pickle.dump(primary_train, open('training_primary_ints.pickle', 'wb'))\n",
        "pickle.dump(primary_test, open('testing_primary_ints.pickle', 'wb'))\n",
        "pickle.dump(primary_cv, open('validation_primary_ints.pickle', 'wb'))'''\n"
      ],
      "execution_count": 0,
      "outputs": []
    },
    {
      "metadata": {
        "id": "iLh5EYSZPpur",
        "colab_type": "text"
      },
      "cell_type": "markdown",
      "source": [
        "# Teacher Forcing Friendly Encoder and Decoder. "
      ]
    },
    {
      "metadata": {
        "colab_type": "code",
        "outputId": "414fc08a-b02d-418c-dc95-553d2b7825fe",
        "id": "AaP9K6X2Pt0F",
        "colab": {
          "base_uri": "https://localhost:8080/",
          "height": 105
        }
      },
      "cell_type": "code",
      "source": [
        "import torch.nn as nn\n",
        "import torch.nn.functional as F\n",
        "import numpy as np\n",
        "\n",
        "class EncoderNet(nn.Module):\n",
        "\n",
        "    def __init__(self, ENCODING_LSTM_OUTPUT=100, CODE_LAYER_SIZE=50, VOCAB_SIZE=20, ENCODER_LSTM_NUM_LAYERS=2 ):\n",
        "        super(EncoderNet, self).__init__()\n",
        "        #encoding\n",
        "        self.LSTM_NUM_LAYERS = ENCODER_LSTM_NUM_LAYERS\n",
        "        self.ENCODING_LSTM_OUTPUT = ENCODING_LSTM_OUTPUT\n",
        "        self.encoder = nn.LSTM(input_size=VOCAB_SIZE, hidden_size= self.ENCODING_LSTM_OUTPUT,num_layers=self.LSTM_NUM_LAYERS,bidirectional=True, batch_first=True)\n",
        "        #self.batchnorm = nn.BatchNorm1d(ENCODING_LSTM_OUTPUT * 2* self.LSTM_NUM_LAYERS) # as either 2 layers OR I concat them\n",
        "        self.dense1_enc = nn.Linear(in_features=(ENCODING_LSTM_OUTPUT* 2 ), out_features=CODE_LAYER_SIZE ) # * self.LSTM_NUM_LAYERS because it is bidirectional\n",
        "        self.dense2_enc = nn.Linear(in_features=CODE_LAYER_SIZE, out_features=CODE_LAYER_SIZE )\n",
        "        if self.LSTM_NUM_LAYERS >2:\n",
        "            print('WARNING, LSTM ENCODER HAS MORE THAN 2 LAYER, will need to change how hidden layers are concatenated!')\n",
        "\n",
        "    def forward(self, input, seq_len):\n",
        "        #print('encoder input', input)\n",
        "        #print('sequence length', seq_len)\n",
        "        # Pack padded batch of sequences for RNN module\n",
        "        #res = torch.nn.utils.rnn.pack_padded_sequence(input, seq_len, batch_first=True).cuda()\n",
        "        res, (hidden_h, hidden_c) = self.encoder(input)\n",
        "        #res = torch.nn.utils.rnn.pad_packed_sequence(res, batch_first=True).cuda() # only use if I want the output w/ all timesteps for the LSTM\n",
        "        # combine the bidirectional outputs, concatenate states from separate layers. \n",
        "        #print('hidden encoder that i concat', hidden_h.shape)\n",
        "        \n",
        "        res = torch.mean(res, dim=1)\n",
        "        \n",
        "        #res = res.view(self.LSTM_NUM_LAYERS, 2, input.shape[0], self.ENCODING_LSTM_OUTPUT)\n",
        "        \n",
        "        '''if self.LSTM_NUM_LAYERS ==2:\n",
        "            #res = hidden_h.view(self.LSTM_NUM_LAYERS, 2, input.shape[0], self.ENCODING_LSTM_OUTPUT)\n",
        "            \n",
        "            # may be much more efficient ways to do this:\n",
        "            res = torch.cat( (torch.cat( (res[0,0,:,:], res[0,1,:,:]) ,1), torch.cat( (res[1,0,:,:], res[1,1,:,:]) ,1) ), 1)\n",
        "            #res= torch.cat( (torch.add(torch.mean(res[0,:,:], dim=),hidden_h[1,:,:]),torch.add(hidden_h[2,:,:],hidden_h[3,:,:])), 1)\n",
        "        else: \n",
        "            # average over all of the hidden states!\n",
        "            print(res.shape)\n",
        "            # res = torch.mean( res, dim=1)\n",
        "            torch.cat((hidden_h[0,:,:],hidden_h[1,:,:]), 1) '''\n",
        "        #res = self.batchnorm(res)\n",
        "        res = self.dense2_enc(F.elu(self.dense1_enc(res))) # used to have F.tanh here!\n",
        "        return res\n",
        "\n",
        "encoder_net = EncoderNet()\n",
        "print(encoder_net)"
      ],
      "execution_count": 0,
      "outputs": [
        {
          "output_type": "stream",
          "text": [
            "EncoderNet(\n",
            "  (encoder): LSTM(20, 100, num_layers=2, batch_first=True, bidirectional=True)\n",
            "  (dense1_enc): Linear(in_features=200, out_features=50, bias=True)\n",
            "  (dense2_enc): Linear(in_features=50, out_features=50, bias=True)\n",
            ")\n"
          ],
          "name": "stdout"
        }
      ]
    },
    {
      "metadata": {
        "colab_type": "code",
        "outputId": "ffc3b7b9-ff6d-423d-e512-843b937684be",
        "id": "5CTNuIWXPt0W",
        "colab": {
          "base_uri": "https://localhost:8080/",
          "height": 122
        }
      },
      "cell_type": "code",
      "source": [
        "class DecoderNet(nn.Module):\n",
        "\n",
        "    def __init__(self, DECODING_LSTM_OUTPUT=100, CODE_LAYER_SIZE=50, VOCAB_SIZE=20, DECODER_LSTM_NUM_LAYERS=1 ):\n",
        "        super(DecoderNet, self).__init__()\n",
        "        #decode it should be the inverse of the encoder!\n",
        "        #self.dense1_predecode = nn.Linear(in_features=(CODE_LAYER_SIZE), out_features=50 )\n",
        "        #self.dense1_pre_dec = nn.Linear(in_features=(CODE_LAYER_SIZE), out_features=200 )\n",
        "        self.LSTM_OUTPUT_SIZE = DECODING_LSTM_OUTPUT\n",
        "        #self.decoder_out = nn.LSTM(input_size=int(CODE_LAYER_SIZE/2),bidirectional=False, hidden_size=VOCAB_SIZE,num_layers=1, batch_first=True)\n",
        "        self.LSTM_NUM_LAYERS=DECODER_LSTM_NUM_LAYERS\n",
        "        self.CODE_LAYER_SIZE=CODE_LAYER_SIZE\n",
        "        self.VOCAB_SIZE=VOCAB_SIZE\n",
        "        self.decoder = nn.LSTM(input_size=( (CODE_LAYER_SIZE)+VOCAB_SIZE),bidirectional=False, #I NEED TO BE PASSING IN THE WHOLE ONE HOT VECTOR AGAIN!\n",
        "                               hidden_size=self.LSTM_OUTPUT_SIZE,num_layers=self.LSTM_NUM_LAYERS, batch_first=True)\n",
        "        # should be half the size but the LSTM is bidirectional. \n",
        "        #self.batchnorm = nn.BatchNorm1d(self.LSTM_OUTPUT_SIZE)\n",
        "        self.dense1_post_dec = nn.Linear(in_features=(self.LSTM_OUTPUT_SIZE), out_features=50 )\n",
        "        self.dense2_post_dec = nn.Linear(in_features=50, out_features=VOCAB_SIZE )\n",
        "        #self.dense3_post_dec = nn.Linear(in_features=50, out_features=VOCAB_SIZE )\n",
        "\n",
        "    def forward(self, latent_space, prev_out, hidden):\n",
        "        #decoding. takes in a single latent code from a single part of the batch. \n",
        "        # where input is the teacher forcing or the predictions from the previous step.\n",
        "\n",
        "        prev_out, hidden = self.decoder( torch.cat( (latent_space, prev_out ), 2 ), hidden)\n",
        "        \n",
        "        #print('batch norm ', prev_out.shape)\n",
        "        #prev_out = self.batchnorm(prev_out.permute([0,2,1])).permute([0,2,1]).contiguous()\n",
        "        #print('batch norm ', prev_out.shape)\n",
        "        prev_out = F.elu(self.dense1_post_dec(prev_out))\n",
        "        prev_out = F.log_softmax(self.dense2_post_dec(prev_out), dim=2)\n",
        "        return prev_out, hidden\n",
        "    \n",
        "    def initHidden(self, batch_size):\n",
        "        hidden_h = torch.empty([self.LSTM_NUM_LAYERS,batch_size,int(self.LSTM_OUTPUT_SIZE)], device=device)\n",
        "        torch.nn.init.orthogonal_(hidden_h, gain=nn.init.calculate_gain('tanh'))\n",
        "        return (hidden_h,\n",
        "                torch.zeros([self.LSTM_NUM_LAYERS,batch_size,int(self.LSTM_OUTPUT_SIZE)], device=device))\n",
        "\n",
        "'''   def initHidden_Out(self, batch_size):\n",
        "        return (torch.zeros([1,batch_size,self.VOCAB_SIZE], device=device),\n",
        "                torch.zeros([1,batch_size,self.VOCAB_SIZE], device=device))'''\n",
        "\n",
        "decoder_net = DecoderNet()\n",
        "print(decoder_net)"
      ],
      "execution_count": 0,
      "outputs": [
        {
          "output_type": "stream",
          "text": [
            "DecoderNet(\n",
            "  (decoder): LSTM(51, 100, batch_first=True)\n",
            "  (batchnorm): BatchNorm1d(100, eps=1e-05, momentum=0.1, affine=True, track_running_stats=True)\n",
            "  (dense1_post_dec): Linear(in_features=100, out_features=50, bias=True)\n",
            "  (dense2_post_dec): Linear(in_features=50, out_features=20, bias=True)\n",
            ")\n"
          ],
          "name": "stdout"
        }
      ]
    },
    {
      "metadata": {
        "id": "hpkyGaaig9-k",
        "colab_type": "text"
      },
      "cell_type": "markdown",
      "source": [
        "# Original Bucket by Seq Length and padder:"
      ]
    },
    {
      "metadata": {
        "id": "ak_M9SPjqMUU",
        "colab_type": "code",
        "colab": {}
      },
      "cell_type": "code",
      "source": [
        "import numpy as np\n",
        "from random import shuffle\n",
        "\n",
        "class BySequenceLengthSampler(Sampler):\n",
        "\n",
        "    def __init__(self, data_source,  \n",
        "                bucket_boundaries, batch_size=64,):\n",
        "        ind_n_len = []\n",
        "        for i, p in enumerate(data_source):\n",
        "            ind_n_len.append( (i, p.shape[0]) )\n",
        "        self.ind_n_len = ind_n_len\n",
        "        self.bucket_boundaries = bucket_boundaries\n",
        "        self.batch_size = batch_size\n",
        "        \n",
        "        \n",
        "    def __iter__(self):\n",
        "        print('bucketing the data again!!! ===========')\n",
        "        data_buckets = dict()\n",
        "        # where p is the id number and seq_len is the length of this id number. \n",
        "        record = []\n",
        "        for p, seq_len in self.ind_n_len:\n",
        "            pid = self.element_to_bucket_id(p,seq_len)\n",
        "            if pid in data_buckets.keys():\n",
        "                data_buckets[pid].append(p)\n",
        "            else:\n",
        "                data_buckets[pid] = [p]\n",
        "\n",
        "        for k in data_buckets.keys():\n",
        "            data_buckets[k] = np.asarray(data_buckets[k])\n",
        "            record.append((k , data_buckets[k].shape[0]))\n",
        "        print(record)\n",
        "        iter_list = []\n",
        "        for k in data_buckets.keys():\n",
        "            np.random.shuffle(data_buckets[k])\n",
        "            iter_list += (np.array_split(data_buckets[k]\n",
        "                           , int(data_buckets[k].shape[0]/self.batch_size)))\n",
        "        shuffle(iter_list) # shuffle all the batches so they arent ordered by bucket\n",
        "        # size\n",
        "        for i in iter_list: \n",
        "            yield i.tolist() # as it was stored in an array\n",
        "    \n",
        "    def __len__(self):\n",
        "        return len(self.data_source)\n",
        "    \n",
        "    def element_to_bucket_id(self, x, seq_length):\n",
        "        boundaries = list(self.bucket_boundaries)\n",
        "        buckets_min = [np.iinfo(np.int32).min] + boundaries\n",
        "        buckets_max = boundaries + [np.iinfo(np.int32).max]\n",
        "        conditions_c = np.logical_and(\n",
        "          np.less_equal(buckets_min, seq_length),\n",
        "          np.less(seq_length, buckets_max))\n",
        "        bucket_id = np.min(np.where(conditions_c))\n",
        "        return bucket_id\n",
        "\n"
      ],
      "execution_count": 0,
      "outputs": []
    },
    {
      "metadata": {
        "id": "PfZz3TO8PJ_x",
        "colab_type": "code",
        "colab": {}
      },
      "cell_type": "code",
      "source": [
        "def sort_batch(batch, lengths):\n",
        "    \"\"\"\n",
        "    Sort a minibatch by the length of the sequences with the longest sequences first\n",
        "    return the sorted batch targes and sequence lengths.\n",
        "    This way the output can be used by pack_padded_sequences(...)\n",
        "    \"\"\"\n",
        "    seq_lengths, perm_idx = lengths.sort(0, descending=True)\n",
        "    seq_tensor = batch[perm_idx]\n",
        "    return seq_tensor, seq_lengths\n",
        "\n",
        "def pad_and_sort_batch(DataLoaderBatch):\n",
        "    \"\"\"\n",
        "    DataLoaderBatch should be a list of (sequence, target, length) tuples...\n",
        "    Returns a padded tensor of sequences sorted from longest to shortest, \n",
        "    \"\"\"\n",
        "    vocab_size = 21\n",
        "    batch_size = len(DataLoaderBatch)\n",
        "    batch_split = list(zip(*DataLoaderBatch))\n",
        "\n",
        "    seqs, lengths = batch_split[0], batch_split[1]\n",
        "    max_length = max(lengths)\n",
        "    \n",
        "    padded_seqs = np.zeros((batch_size, max_length))\n",
        "    for i, l in enumerate(lengths):\n",
        "        padded_seqs[i, 0:l] = seqs[i][0:l]\n",
        "    \n",
        "    #print(padded_seqs)\n",
        "    #print('seq') write it as sourceTensor.clone().detach() or sourceTensor.clone().detach().requires_grad_(True), rather than torch.tensor(sourceTensor)\n",
        "    y = torch.tensor(padded_seqs).type(torch.LongTensor) #had device\n",
        "    y_onehot = torch.FloatTensor(batch_size, max_length, vocab_size)\n",
        "    y_onehot.zero_()\n",
        "    y_onehot.scatter_(2, torch.unsqueeze(y, 2), 1.0)\n",
        "    #print('max')\n",
        "    #print(y_onehot.max(dim=2)[1])\n",
        "    return sort_batch(y_onehot, torch.tensor(lengths)) # had device"
      ],
      "execution_count": 0,
      "outputs": []
    },
    {
      "metadata": {
        "id": "3PkICOAjlxsY",
        "colab_type": "code",
        "colab": {}
      },
      "cell_type": "code",
      "source": [
        "bucket_boundaries = [50,75,100]#,125,150,175,200,225,250,275,300,325,350,375,400,425,450,475,500] #,700]#,800,900,1000,1100,1200]\n",
        "    sampler = BySequenceLengthSampler(primary_train,bucket_boundaries, BATCH_SIZE)\n",
        "    dataloader = DataLoader(df_train, batch_size=1, \n",
        "                            batch_sampler=sampler, shuffle=False,\n",
        "                            num_workers=8, collate_fn=pad_and_sort_batch, \n",
        "                            drop_last=False, pin_memory=mem_pin)"
      ],
      "execution_count": 0,
      "outputs": []
    }
  ]
}